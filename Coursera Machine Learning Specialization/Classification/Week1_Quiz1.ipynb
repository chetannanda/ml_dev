{
 "cells": [
  {
   "cell_type": "markdown",
   "metadata": {},
   "source": [
    "#### Import packages that we need"
   ]
  },
  {
   "cell_type": "code",
   "execution_count": 242,
   "metadata": {
    "collapsed": true
   },
   "outputs": [],
   "source": [
    "import pandas as pd\n",
    "import matplotlib.pyplot as plt\n",
    "import numpy as np\n",
    "import string"
   ]
  },
  {
   "cell_type": "code",
   "execution_count": 243,
   "metadata": {
    "collapsed": true
   },
   "outputs": [],
   "source": [
    "## Load the amazon product data\n",
    "products = pd.read_csv('amazon_baby.csv',dtype=dict_type)"
   ]
  },
  {
   "cell_type": "markdown",
   "metadata": {},
   "source": [
    "#### Fill the n/a review columns with empty string.\n",
    "##### Otherwise they will result in error while cleaning of punctuation"
   ]
  },
  {
   "cell_type": "code",
   "execution_count": 244,
   "metadata": {
    "collapsed": true
   },
   "outputs": [],
   "source": [
    "products = products.fillna({'review':''})\n"
   ]
  },
  {
   "cell_type": "code",
   "execution_count": 245,
   "metadata": {
    "collapsed": true
   },
   "outputs": [],
   "source": [
    "def remove_punctuation(text):\n",
    "    return text.translate(None, string.punctuation) \n",
    "\n",
    "products['review_clean'] = products['review'].apply(remove_punctuation)"
   ]
  },
  {
   "cell_type": "code",
   "execution_count": 246,
   "metadata": {},
   "outputs": [
    {
     "name": "stdout",
     "output_type": "stream",
     "text": [
      "This shouldnt be done as its not the right way\n"
     ]
    }
   ],
   "source": [
    "text = \",,This shouldn't be done, as it's not the right !!!way!!!\"\n",
    "print remove_punctuation(text)"
   ]
  },
  {
   "cell_type": "code",
   "execution_count": 247,
   "metadata": {
    "collapsed": true
   },
   "outputs": [],
   "source": [
    "## Remove the products with rating equals to 3\n",
    "products = products[products['rating'] != 3]"
   ]
  },
  {
   "cell_type": "code",
   "execution_count": 248,
   "metadata": {},
   "outputs": [
    {
     "data": {
      "text/plain": [
       "166752"
      ]
     },
     "execution_count": 248,
     "metadata": {},
     "output_type": "execute_result"
    }
   ],
   "source": [
    "len(products)"
   ]
  },
  {
   "cell_type": "code",
   "execution_count": 249,
   "metadata": {
    "collapsed": true
   },
   "outputs": [],
   "source": [
    "# Create a new column in the dataframe 'sentiment' \n",
    "# This new column will record the sentiment as +1 if rating > , else -1\n",
    "# This way whole dataset will be divided in two class (+1,-1) and will be used for binary classification problem\n",
    "products['sentiment'] = products['rating'].apply(lambda x: +1 if x > 3 else -1)"
   ]
  },
  {
   "cell_type": "code",
   "execution_count": 250,
   "metadata": {},
   "outputs": [
    {
     "name": "stdout",
     "output_type": "stream",
     "text": [
      "(133416, 5)\n",
      "(33336, 5)\n"
     ]
    }
   ],
   "source": [
    "# Load the indicies to be used for training and test data\n",
    "train_index = pd.read_json('module-2-assignment-train-idx.json')\n",
    "test_index = pd.read_json('module-2-assignment-test-idx.json')\n",
    "\n",
    "# Create training and test data using indicies\n",
    "train_data = products.iloc[train_index.values.flatten(),]\n",
    "test_data = products.iloc[test_index.values.flatten(),]\n",
    "print train_data.shape\n",
    "print test_data.shape"
   ]
  },
  {
   "cell_type": "markdown",
   "metadata": {},
   "source": [
    "#### Build the word count vector for each review"
   ]
  },
  {
   "cell_type": "code",
   "execution_count": 251,
   "metadata": {
    "collapsed": true
   },
   "outputs": [],
   "source": [
    "# Simple model based on 'Bag of words' features is being used.\n",
    "# Using CountVectorizer from sklearn for 'Bag of Words'\n",
    "from sklearn.feature_extraction.text import CountVectorizer\n",
    "vectorizer = CountVectorizer(token_pattern=r'\\b\\w+\\b')\n",
    "\n",
    "# Fit training data (this will create the vocabulary (feature set)) too, so need to use same vocab for test data also.\n",
    "train_matrix = vectorizer.fit_transform(train_data['review_clean'])\n",
    "\n",
    "#Convert test data into sparse matrix\n",
    "test_matrix = vectorizer.transform(test_data['review_clean'])"
   ]
  },
  {
   "cell_type": "code",
   "execution_count": 311,
   "metadata": {},
   "outputs": [],
   "source": [
    "l = vectorizer.vocabulary_.keys()"
   ]
  },
  {
   "cell_type": "code",
   "execution_count": 312,
   "metadata": {},
   "outputs": [],
   "source": [
    "### Check CountVectorizer vocab\n",
    "sentiment_model_coef_table = pd.DataFrame({'word':l,\n",
    "                                         'coefficient':model.coef_.flatten()})\n",
    "#print simple_model_coef_table.shape\n",
    "#print vectorizer.vocabulary_.viewkeys()"
   ]
  },
  {
   "cell_type": "code",
   "execution_count": 314,
   "metadata": {},
   "outputs": [
    {
     "data": {
      "text/html": [
       "<div>\n",
       "<style>\n",
       "    .dataframe thead tr:only-child th {\n",
       "        text-align: right;\n",
       "    }\n",
       "\n",
       "    .dataframe thead th {\n",
       "        text-align: left;\n",
       "    }\n",
       "\n",
       "    .dataframe tbody tr th {\n",
       "        vertical-align: top;\n",
       "    }\n",
       "</style>\n",
       "<table border=\"1\" class=\"dataframe\">\n",
       "  <thead>\n",
       "    <tr style=\"text-align: right;\">\n",
       "      <th></th>\n",
       "      <th>coefficient</th>\n",
       "      <th>word</th>\n",
       "    </tr>\n",
       "  </thead>\n",
       "  <tbody>\n",
       "    <tr>\n",
       "      <th>80934</th>\n",
       "      <td>2.014504</td>\n",
       "      <td>itempro</td>\n",
       "    </tr>\n",
       "    <tr>\n",
       "      <th>10112</th>\n",
       "      <td>2.011566</td>\n",
       "      <td>911</td>\n",
       "    </tr>\n",
       "    <tr>\n",
       "      <th>81177</th>\n",
       "      <td>1.993826</td>\n",
       "      <td>easywhen</td>\n",
       "    </tr>\n",
       "    <tr>\n",
       "      <th>40372</th>\n",
       "      <td>1.951560</td>\n",
       "      <td>discretionary</td>\n",
       "    </tr>\n",
       "    <tr>\n",
       "      <th>36155</th>\n",
       "      <td>1.950238</td>\n",
       "      <td>2350</td>\n",
       "    </tr>\n",
       "    <tr>\n",
       "      <th>91891</th>\n",
       "      <td>1.905856</td>\n",
       "      <td>alarmed</td>\n",
       "    </tr>\n",
       "    <tr>\n",
       "      <th>78982</th>\n",
       "      <td>1.865811</td>\n",
       "      <td>producton</td>\n",
       "    </tr>\n",
       "    <tr>\n",
       "      <th>89901</th>\n",
       "      <td>1.865090</td>\n",
       "      <td>wifiif</td>\n",
       "    </tr>\n",
       "    <tr>\n",
       "      <th>76453</th>\n",
       "      <td>1.835400</td>\n",
       "      <td>thinks</td>\n",
       "    </tr>\n",
       "    <tr>\n",
       "      <th>47504</th>\n",
       "      <td>1.834475</td>\n",
       "      <td>bagwhat</td>\n",
       "    </tr>\n",
       "    <tr>\n",
       "      <th>61811</th>\n",
       "      <td>1.829817</td>\n",
       "      <td>tove</td>\n",
       "    </tr>\n",
       "    <tr>\n",
       "      <th>27577</th>\n",
       "      <td>1.804452</td>\n",
       "      <td>favorite34</td>\n",
       "    </tr>\n",
       "    <tr>\n",
       "      <th>32689</th>\n",
       "      <td>1.788795</td>\n",
       "      <td>bestread</td>\n",
       "    </tr>\n",
       "    <tr>\n",
       "      <th>52346</th>\n",
       "      <td>1.783115</td>\n",
       "      <td>securedi</td>\n",
       "    </tr>\n",
       "    <tr>\n",
       "      <th>47555</th>\n",
       "      <td>1.771581</td>\n",
       "      <td>34realistic34</td>\n",
       "    </tr>\n",
       "    <tr>\n",
       "      <th>27348</th>\n",
       "      <td>1.757621</td>\n",
       "      <td>cushionpad</td>\n",
       "    </tr>\n",
       "    <tr>\n",
       "      <th>67059</th>\n",
       "      <td>1.749836</td>\n",
       "      <td>pourandcombine</td>\n",
       "    </tr>\n",
       "    <tr>\n",
       "      <th>78826</th>\n",
       "      <td>1.741425</td>\n",
       "      <td>outpros</td>\n",
       "    </tr>\n",
       "    <tr>\n",
       "      <th>79040</th>\n",
       "      <td>1.714325</td>\n",
       "      <td>hummus</td>\n",
       "    </tr>\n",
       "    <tr>\n",
       "      <th>13287</th>\n",
       "      <td>1.695571</td>\n",
       "      <td>unfoldswitching</td>\n",
       "    </tr>\n",
       "    <tr>\n",
       "      <th>120235</th>\n",
       "      <td>1.690188</td>\n",
       "      <td>arr</td>\n",
       "    </tr>\n",
       "    <tr>\n",
       "      <th>106064</th>\n",
       "      <td>1.650838</td>\n",
       "      <td>awesomenessother</td>\n",
       "    </tr>\n",
       "    <tr>\n",
       "      <th>10118</th>\n",
       "      <td>1.634548</td>\n",
       "      <td>lockablecasters</td>\n",
       "    </tr>\n",
       "    <tr>\n",
       "      <th>80988</th>\n",
       "      <td>1.615509</td>\n",
       "      <td>packe</td>\n",
       "    </tr>\n",
       "    <tr>\n",
       "      <th>27331</th>\n",
       "      <td>1.606295</td>\n",
       "      <td>adavinci</td>\n",
       "    </tr>\n",
       "    <tr>\n",
       "      <th>115905</th>\n",
       "      <td>1.600778</td>\n",
       "      <td>cell</td>\n",
       "    </tr>\n",
       "    <tr>\n",
       "      <th>80941</th>\n",
       "      <td>1.599379</td>\n",
       "      <td>wheelsspinners</td>\n",
       "    </tr>\n",
       "    <tr>\n",
       "      <th>103610</th>\n",
       "      <td>1.594565</td>\n",
       "      <td>tumblers</td>\n",
       "    </tr>\n",
       "    <tr>\n",
       "      <th>96355</th>\n",
       "      <td>1.586342</td>\n",
       "      <td>mumwheels</td>\n",
       "    </tr>\n",
       "    <tr>\n",
       "      <th>63567</th>\n",
       "      <td>1.582663</td>\n",
       "      <td>newborndisgusting</td>\n",
       "    </tr>\n",
       "    <tr>\n",
       "      <th>...</th>\n",
       "      <td>...</td>\n",
       "      <td>...</td>\n",
       "    </tr>\n",
       "    <tr>\n",
       "      <th>32387</th>\n",
       "      <td>-1.796847</td>\n",
       "      <td>beepingif</td>\n",
       "    </tr>\n",
       "    <tr>\n",
       "      <th>24607</th>\n",
       "      <td>-1.798961</td>\n",
       "      <td>durableprevents</td>\n",
       "    </tr>\n",
       "    <tr>\n",
       "      <th>113726</th>\n",
       "      <td>-1.809200</td>\n",
       "      <td>interupt</td>\n",
       "    </tr>\n",
       "    <tr>\n",
       "      <th>112528</th>\n",
       "      <td>-1.809731</td>\n",
       "      <td>thief</td>\n",
       "    </tr>\n",
       "    <tr>\n",
       "      <th>80098</th>\n",
       "      <td>-1.814475</td>\n",
       "      <td>doorwaysa</td>\n",
       "    </tr>\n",
       "    <tr>\n",
       "      <th>92378</th>\n",
       "      <td>-1.855631</td>\n",
       "      <td>budgetone</td>\n",
       "    </tr>\n",
       "    <tr>\n",
       "      <th>17278</th>\n",
       "      <td>-1.906945</td>\n",
       "      <td>fiveotherwise</td>\n",
       "    </tr>\n",
       "    <tr>\n",
       "      <th>86639</th>\n",
       "      <td>-1.945636</td>\n",
       "      <td>chargedanother</td>\n",
       "    </tr>\n",
       "    <tr>\n",
       "      <th>94274</th>\n",
       "      <td>-1.952529</td>\n",
       "      <td>droooly</td>\n",
       "    </tr>\n",
       "    <tr>\n",
       "      <th>34505</th>\n",
       "      <td>-1.957186</td>\n",
       "      <td>futon</td>\n",
       "    </tr>\n",
       "    <tr>\n",
       "      <th>109445</th>\n",
       "      <td>-1.979796</td>\n",
       "      <td>kangaroos</td>\n",
       "    </tr>\n",
       "    <tr>\n",
       "      <th>117082</th>\n",
       "      <td>-1.997640</td>\n",
       "      <td>saidwhat</td>\n",
       "    </tr>\n",
       "    <tr>\n",
       "      <th>105844</th>\n",
       "      <td>-2.015676</td>\n",
       "      <td>graspbottom</td>\n",
       "    </tr>\n",
       "    <tr>\n",
       "      <th>89525</th>\n",
       "      <td>-2.026874</td>\n",
       "      <td>lops</td>\n",
       "    </tr>\n",
       "    <tr>\n",
       "      <th>72382</th>\n",
       "      <td>-2.035975</td>\n",
       "      <td>seatseems</td>\n",
       "    </tr>\n",
       "    <tr>\n",
       "      <th>45915</th>\n",
       "      <td>-2.037656</td>\n",
       "      <td>velcroall</td>\n",
       "    </tr>\n",
       "    <tr>\n",
       "      <th>89505</th>\n",
       "      <td>-2.084495</td>\n",
       "      <td>longwaistedso</td>\n",
       "    </tr>\n",
       "    <tr>\n",
       "      <th>34453</th>\n",
       "      <td>-2.196830</td>\n",
       "      <td>incoming</td>\n",
       "    </tr>\n",
       "    <tr>\n",
       "      <th>55481</th>\n",
       "      <td>-2.209998</td>\n",
       "      <td>hairteaching</td>\n",
       "    </tr>\n",
       "    <tr>\n",
       "      <th>113687</th>\n",
       "      <td>-2.293251</td>\n",
       "      <td>comfortablybut</td>\n",
       "    </tr>\n",
       "    <tr>\n",
       "      <th>81599</th>\n",
       "      <td>-2.293548</td>\n",
       "      <td>thingbunnies</td>\n",
       "    </tr>\n",
       "    <tr>\n",
       "      <th>27609</th>\n",
       "      <td>-2.297200</td>\n",
       "      <td>spitty</td>\n",
       "    </tr>\n",
       "    <tr>\n",
       "      <th>81609</th>\n",
       "      <td>-2.299797</td>\n",
       "      <td>achievements</td>\n",
       "    </tr>\n",
       "    <tr>\n",
       "      <th>114476</th>\n",
       "      <td>-2.334373</td>\n",
       "      <td>happierour</td>\n",
       "    </tr>\n",
       "    <tr>\n",
       "      <th>34484</th>\n",
       "      <td>-2.438108</td>\n",
       "      <td>prove</td>\n",
       "    </tr>\n",
       "    <tr>\n",
       "      <th>106711</th>\n",
       "      <td>-2.448365</td>\n",
       "      <td>silentgood</td>\n",
       "    </tr>\n",
       "    <tr>\n",
       "      <th>81346</th>\n",
       "      <td>-2.615837</td>\n",
       "      <td>12202012</td>\n",
       "    </tr>\n",
       "    <tr>\n",
       "      <th>120276</th>\n",
       "      <td>-2.616351</td>\n",
       "      <td>2022</td>\n",
       "    </tr>\n",
       "    <tr>\n",
       "      <th>120295</th>\n",
       "      <td>-2.691659</td>\n",
       "      <td>finds</td>\n",
       "    </tr>\n",
       "    <tr>\n",
       "      <th>35045</th>\n",
       "      <td>-2.759355</td>\n",
       "      <td>valuable</td>\n",
       "    </tr>\n",
       "  </tbody>\n",
       "</table>\n",
       "<p>121712 rows × 2 columns</p>\n",
       "</div>"
      ],
      "text/plain": [
       "        coefficient               word\n",
       "80934      2.014504            itempro\n",
       "10112      2.011566                911\n",
       "81177      1.993826           easywhen\n",
       "40372      1.951560      discretionary\n",
       "36155      1.950238               2350\n",
       "91891      1.905856            alarmed\n",
       "78982      1.865811          producton\n",
       "89901      1.865090             wifiif\n",
       "76453      1.835400             thinks\n",
       "47504      1.834475            bagwhat\n",
       "61811      1.829817               tove\n",
       "27577      1.804452         favorite34\n",
       "32689      1.788795           bestread\n",
       "52346      1.783115           securedi\n",
       "47555      1.771581      34realistic34\n",
       "27348      1.757621         cushionpad\n",
       "67059      1.749836     pourandcombine\n",
       "78826      1.741425            outpros\n",
       "79040      1.714325             hummus\n",
       "13287      1.695571    unfoldswitching\n",
       "120235     1.690188                arr\n",
       "106064     1.650838   awesomenessother\n",
       "10118      1.634548    lockablecasters\n",
       "80988      1.615509              packe\n",
       "27331      1.606295           adavinci\n",
       "115905     1.600778               cell\n",
       "80941      1.599379     wheelsspinners\n",
       "103610     1.594565           tumblers\n",
       "96355      1.586342          mumwheels\n",
       "63567      1.582663  newborndisgusting\n",
       "...             ...                ...\n",
       "32387     -1.796847          beepingif\n",
       "24607     -1.798961    durableprevents\n",
       "113726    -1.809200           interupt\n",
       "112528    -1.809731              thief\n",
       "80098     -1.814475          doorwaysa\n",
       "92378     -1.855631          budgetone\n",
       "17278     -1.906945      fiveotherwise\n",
       "86639     -1.945636     chargedanother\n",
       "94274     -1.952529            droooly\n",
       "34505     -1.957186              futon\n",
       "109445    -1.979796          kangaroos\n",
       "117082    -1.997640           saidwhat\n",
       "105844    -2.015676        graspbottom\n",
       "89525     -2.026874               lops\n",
       "72382     -2.035975          seatseems\n",
       "45915     -2.037656          velcroall\n",
       "89505     -2.084495      longwaistedso\n",
       "34453     -2.196830           incoming\n",
       "55481     -2.209998       hairteaching\n",
       "113687    -2.293251     comfortablybut\n",
       "81599     -2.293548       thingbunnies\n",
       "27609     -2.297200             spitty\n",
       "81609     -2.299797       achievements\n",
       "114476    -2.334373         happierour\n",
       "34484     -2.438108              prove\n",
       "106711    -2.448365         silentgood\n",
       "81346     -2.615837           12202012\n",
       "120276    -2.616351               2022\n",
       "120295    -2.691659              finds\n",
       "35045     -2.759355           valuable\n",
       "\n",
       "[121712 rows x 2 columns]"
      ]
     },
     "execution_count": 314,
     "metadata": {},
     "output_type": "execute_result"
    }
   ],
   "source": [
    "sentiment_model_coef_table.sort_values('coefficient',ascending=False)"
   ]
  },
  {
   "cell_type": "code",
   "execution_count": 252,
   "metadata": {},
   "outputs": [
    {
     "data": {
      "text/plain": [
       "LogisticRegression(C=1.0, class_weight=None, dual=False, fit_intercept=True,\n",
       "          intercept_scaling=1, max_iter=100, multi_class='ovr', n_jobs=1,\n",
       "          penalty='l2', random_state=None, solver='liblinear', tol=0.0001,\n",
       "          verbose=0, warm_start=False)"
      ]
     },
     "execution_count": 252,
     "metadata": {},
     "output_type": "execute_result"
    }
   ],
   "source": [
    "from sklearn.linear_model import LogisticRegression\n",
    "model = LogisticRegression()\n",
    "model.fit(train_matrix, train_data['sentiment'])"
   ]
  },
  {
   "cell_type": "markdown",
   "metadata": {},
   "source": [
    "### Question 1"
   ]
  },
  {
   "cell_type": "code",
   "execution_count": 253,
   "metadata": {},
   "outputs": [
    {
     "name": "stdout",
     "output_type": "stream",
     "text": [
      "Number of weights >= 0 are 87194\n"
     ]
    }
   ],
   "source": [
    "print 'Number of weights >= 0 are', model.coef_[model.coef_ >= 0].flatten().shape[0]\n"
   ]
  },
  {
   "cell_type": "code",
   "execution_count": 255,
   "metadata": {
    "collapsed": true
   },
   "outputs": [],
   "source": [
    "def sigmoid(score):\n",
    "    return (1.0 / (1 + np.exp(-1 * score)))"
   ]
  },
  {
   "cell_type": "code",
   "execution_count": 256,
   "metadata": {},
   "outputs": [
    {
     "data": {
      "text/plain": [
       "[<matplotlib.lines.Line2D at 0x11f621250>]"
      ]
     },
     "execution_count": 256,
     "metadata": {},
     "output_type": "execute_result"
    },
    {
     "data": {
      "image/png": "[encoded data removed]",
      "text/plain": [
       "<matplotlib.figure.Figure at 0x118df7f10>"
      ]
     },
     "metadata": {},
     "output_type": "display_data"
    }
   ],
   "source": [
    "%matplotlib inline\n",
    "plt.plot(xrange(model.coef_.shape[1]), model.coef_.reshape(1, -1).flatten(),'.')"
   ]
  },
  {
   "cell_type": "code",
   "execution_count": 264,
   "metadata": {
    "collapsed": true
   },
   "outputs": [],
   "source": [
    "sample_test_data = test_data[10:13]"
   ]
  },
  {
   "cell_type": "code",
   "execution_count": 265,
   "metadata": {},
   "outputs": [
    {
     "name": "stdout",
     "output_type": "stream",
     "text": [
      "[  5.60129879  -3.17005306 -10.42408041]\n"
     ]
    }
   ],
   "source": [
    "sample_test_matrix = vectorizer.transform(sample_test_data['review_clean'])\n",
    "sample_test_score = model.decision_function(sample_test_matrix) \n",
    "print sample_test_score"
   ]
  },
  {
   "cell_type": "code",
   "execution_count": 266,
   "metadata": {},
   "outputs": [
    {
     "data": {
      "text/plain": [
       "array([ True, False, False], dtype=bool)"
      ]
     },
     "execution_count": 266,
     "metadata": {},
     "output_type": "execute_result"
    }
   ],
   "source": [
    "predicion_based_score = sample_test_score > 0\n",
    "predicion_based_score"
   ]
  },
  {
   "cell_type": "code",
   "execution_count": 267,
   "metadata": {},
   "outputs": [
    {
     "name": "stdout",
     "output_type": "stream",
     "text": [
      "59    1\n",
      "71   -1\n",
      "91   -1\n",
      "Name: sentiment, dtype: int64\n"
     ]
    }
   ],
   "source": [
    "print sample_test_data['sentiment']"
   ]
  },
  {
   "cell_type": "code",
   "execution_count": 268,
   "metadata": {},
   "outputs": [
    {
     "name": "stdout",
     "output_type": "stream",
     "text": [
      "[  9.96320524e-01   4.03083629e-02   2.97075268e-05]\n"
     ]
    }
   ],
   "source": [
    "### Probability of sample test data\n",
    "prob = sigmoid(sample_test_score)\n",
    "print prob"
   ]
  },
  {
   "cell_type": "code",
   "execution_count": 269,
   "metadata": {},
   "outputs": [
    {
     "name": "stdout",
     "output_type": "stream",
     "text": [
      "[  9.96320524e-01   4.03083629e-02   2.97075268e-05]\n"
     ]
    }
   ],
   "source": [
    "### Check the probabilities from sigmoid is same as ones fro model prediction\n",
    "prediction = model.predict_proba(sample_test_matrix)\n",
    "print prediction[:,1]"
   ]
  },
  {
   "cell_type": "code",
   "execution_count": 270,
   "metadata": {},
   "outputs": [],
   "source": [
    "## Get the probabilities of full test data\n",
    "full_prediction_prob = model.predict_proba(test_matrix)[:,1]\n",
    "\n",
    "## Get the indicies in descending sorted order, \n",
    "indicies = np.argsort(-full_prediction_prob)\n",
    "full_prediction_prob = full_prediction_prob[indicies]"
   ]
  },
  {
   "cell_type": "code",
   "execution_count": 271,
   "metadata": {},
   "outputs": [
    {
     "name": "stdout",
     "output_type": "stream",
     "text": [
      "[32782 15732 20743 24899 11923 17558 24286 30634 25554 21531  9555 18112\n",
      " 14482  9125 26830 30535  4140 33060 30076]\n"
     ]
    }
   ],
   "source": [
    "# Get indicies for top 20 high probabilities\n",
    "top_20 = indicies[0:19]\n",
    "print top_20"
   ]
  },
  {
   "cell_type": "code",
   "execution_count": 272,
   "metadata": {},
   "outputs": [
    {
     "name": "stdout",
     "output_type": "stream",
     "text": [
      "180646        Mamas &amp; Papas 2014 Urbo2 Stroller - Black\n",
      "87017       Baby Einstein Around The World Discovery Center\n",
      "114796    Fisher-Price Cradle 'N Swing,  My Little Snuga...\n",
      "137034           Graco Pack 'n Play Element Playard - Flint\n",
      "66059          Evenflo 6 Pack Classic Glass Bottle, 4-Ounce\n",
      "97325     Freemie Hands-Free Concealable Breast Pump Col...\n",
      "133651                    Britax 2012 B-Agile Stroller, Red\n",
      "168697    Graco FastAction Fold Jogger Click Connect Str...\n",
      "140816           Diono RadianRXT Convertible Car Seat, Plum\n",
      "119182    Roan Rocco Classic Pram Stroller 2-in-1 with B...\n",
      "52631     Evenflo X Sport Plus Convenience Stroller - Ch...\n",
      "100166    Infantino Wrap and Tie Baby Carrier, Black Blu...\n",
      "80155     Simple Wishes Hands-Free Breastpump Bra, Pink,...\n",
      "50315            P'Kolino Silly Soft Seating in Tias, Green\n",
      "147949    Baby Jogger City Mini GT Single Stroller, Shad...\n",
      "168081    Buttons Cloth Diaper Cover - One Size - 8 Colo...\n",
      "22586        Britax Decathlon Convertible Car Seat, Tiffany\n",
      "182089    Summer Infant Wide View Digital Color Video Mo...\n",
      "165593    Ikea 36 Pcs Kalas Kids Plastic BPA Free Flatwa...\n",
      "Name: name, dtype: object\n"
     ]
    }
   ],
   "source": [
    "print test_data.iloc[top_20]['name']"
   ]
  },
  {
   "cell_type": "code",
   "execution_count": 274,
   "metadata": {},
   "outputs": [
    {
     "name": "stdout",
     "output_type": "stream",
     "text": [
      "[18983 15062  5831   205 28120 27231 13751 31226  7310  1810 10814 20594\n",
      "  1942 14711  9655 17069 28184  8818 13939 21700]\n"
     ]
    }
   ],
   "source": [
    "# Get indicies for top 20 high probabilities\n",
    "bottom_20 = indicies[-21:-1]\n",
    "print bottom_20"
   ]
  },
  {
   "cell_type": "code",
   "execution_count": 275,
   "metadata": {},
   "outputs": [
    {
     "name": "stdout",
     "output_type": "stream",
     "text": [
      "105055                  Angelcare Baby Sound Monitor, White\n",
      "83234         Thirsties Hemp Inserts 2 Pack, Small 6-18 Lbs\n",
      "31741                Regalo My Cot Portable Bed, Royal Blue\n",
      "1116                  Safety 1st Deluxe 4-in-1 Bath Station\n",
      "154878    VTech Communications Safe &amp; Sound Digital ...\n",
      "149987                     NUK Cook-n-Blend Baby Food Maker\n",
      "75994            Peg-Perego Tatamia High Chair, White Latte\n",
      "172090    Belkin WeMo Wi-Fi Baby Monitor for Apple iPhon...\n",
      "40079     Chicco Cortina KeyFit 30 Travel System in Adve...\n",
      "9915           Cosco Alpha Omega Elite Convertible Car Seat\n",
      "59546                Ellaroo Mei Tai Baby Carrier - Hershey\n",
      "113995    Motorola Digital Video Baby Monitor with Room ...\n",
      "10677                     Philips AVENT Newborn Starter Set\n",
      "81332                 Cloth Diaper Sprayer--styles may vary\n",
      "53207                   Safety 1st High-Def Digital Monitor\n",
      "94560     The First Years True Choice P400 Premium Digit...\n",
      "155287    VTech Communications Safe &amp; Sounds Full Co...\n",
      "48694     Adiri BPA Free Natural Nurser Ultimate Bottle ...\n",
      "77072        Safety 1st Exchangeable Tip 3 in 1 Thermometer\n",
      "120209    Levana Safe N'See Digital Video Baby Monitor w...\n",
      "Name: name, dtype: object\n"
     ]
    }
   ],
   "source": [
    "print test_data.iloc[bottom_20]['name']"
   ]
  },
  {
   "cell_type": "code",
   "execution_count": 276,
   "metadata": {
    "collapsed": true
   },
   "outputs": [],
   "source": [
    "def accuracy(prediction, output):\n",
    "    # Just take the difference, for this problem, abs difference will be 2 \n",
    "    # 1 - (-1) = 2\n",
    "    # -1 - (1) = abs 2\n",
    "    worngs = abs(prediction - output).sum() / 2\n",
    "    return (len(prediction) - worngs) * 1.0 / len(prediction)"
   ]
  },
  {
   "cell_type": "code",
   "execution_count": 277,
   "metadata": {},
   "outputs": [
    {
     "name": "stdout",
     "output_type": "stream",
     "text": [
      "Sentiment model accuracy on test data = 0.932295416367\n"
     ]
    }
   ],
   "source": [
    "print 'Sentiment model accuracy on test data =', accuracy(model.predict(test_matrix),test_data['sentiment'])"
   ]
  },
  {
   "cell_type": "code",
   "execution_count": 279,
   "metadata": {
    "collapsed": true
   },
   "outputs": [],
   "source": [
    "### Vocab for simple model\n",
    "### This model will do 'Bag of Words' feature extractor for these words only\n",
    "significant_words = ['love', 'great', 'easy', 'old', 'little', 'perfect', 'loves', \n",
    "      'well', 'able', 'car', 'broke', 'less', 'even', 'waste', 'disappointed', \n",
    "      'work', 'product', 'money', 'would', 'return']"
   ]
  },
  {
   "cell_type": "code",
   "execution_count": 280,
   "metadata": {
    "collapsed": true
   },
   "outputs": [],
   "source": [
    "vectorizer_word_subset = CountVectorizer(vocabulary=significant_words) # limit to 20 words\n",
    "train_matrix_word_subset = vectorizer_word_subset.fit_transform(train_data['review_clean'])\n",
    "test_matrix_word_subset = vectorizer_word_subset.transform(test_data['review_clean'])"
   ]
  },
  {
   "cell_type": "code",
   "execution_count": 282,
   "metadata": {},
   "outputs": [
    {
     "data": {
      "text/plain": [
       "LogisticRegression(C=1.0, class_weight=None, dual=False, fit_intercept=True,\n",
       "          intercept_scaling=1, max_iter=100, multi_class='ovr', n_jobs=1,\n",
       "          penalty='l2', random_state=None, solver='liblinear', tol=0.0001,\n",
       "          verbose=0, warm_start=False)"
      ]
     },
     "execution_count": 282,
     "metadata": {},
     "output_type": "execute_result"
    }
   ],
   "source": [
    "simple_model = LogisticRegression()\n",
    "simple_model.fit(train_matrix_word_subset, train_data['sentiment'])"
   ]
  },
  {
   "cell_type": "code",
   "execution_count": 283,
   "metadata": {},
   "outputs": [
    {
     "name": "stdout",
     "output_type": "stream",
     "text": [
      "(20, 2)\n"
     ]
    }
   ],
   "source": [
    "simple_model_coef_table = pd.DataFrame({'word':significant_words,\n",
    "                                         'coefficient':simple_model.coef_.flatten()})\n",
    "print simple_model_coef_table.shape"
   ]
  },
  {
   "cell_type": "code",
   "execution_count": 286,
   "metadata": {},
   "outputs": [
    {
     "data": {
      "text/html": [
       "<div>\n",
       "<style>\n",
       "    .dataframe thead tr:only-child th {\n",
       "        text-align: right;\n",
       "    }\n",
       "\n",
       "    .dataframe thead th {\n",
       "        text-align: left;\n",
       "    }\n",
       "\n",
       "    .dataframe tbody tr th {\n",
       "        vertical-align: top;\n",
       "    }\n",
       "</style>\n",
       "<table border=\"1\" class=\"dataframe\">\n",
       "  <thead>\n",
       "    <tr style=\"text-align: right;\">\n",
       "      <th></th>\n",
       "      <th>coefficient</th>\n",
       "      <th>word</th>\n",
       "    </tr>\n",
       "  </thead>\n",
       "  <tbody>\n",
       "    <tr>\n",
       "      <th>6</th>\n",
       "      <td>1.673074</td>\n",
       "      <td>loves</td>\n",
       "    </tr>\n",
       "    <tr>\n",
       "      <th>5</th>\n",
       "      <td>1.509812</td>\n",
       "      <td>perfect</td>\n",
       "    </tr>\n",
       "    <tr>\n",
       "      <th>0</th>\n",
       "      <td>1.363690</td>\n",
       "      <td>love</td>\n",
       "    </tr>\n",
       "    <tr>\n",
       "      <th>2</th>\n",
       "      <td>1.192538</td>\n",
       "      <td>easy</td>\n",
       "    </tr>\n",
       "    <tr>\n",
       "      <th>1</th>\n",
       "      <td>0.944000</td>\n",
       "      <td>great</td>\n",
       "    </tr>\n",
       "    <tr>\n",
       "      <th>4</th>\n",
       "      <td>0.520186</td>\n",
       "      <td>little</td>\n",
       "    </tr>\n",
       "    <tr>\n",
       "      <th>7</th>\n",
       "      <td>0.503760</td>\n",
       "      <td>well</td>\n",
       "    </tr>\n",
       "    <tr>\n",
       "      <th>8</th>\n",
       "      <td>0.190909</td>\n",
       "      <td>able</td>\n",
       "    </tr>\n",
       "    <tr>\n",
       "      <th>3</th>\n",
       "      <td>0.085513</td>\n",
       "      <td>old</td>\n",
       "    </tr>\n",
       "    <tr>\n",
       "      <th>9</th>\n",
       "      <td>0.058855</td>\n",
       "      <td>car</td>\n",
       "    </tr>\n",
       "    <tr>\n",
       "      <th>11</th>\n",
       "      <td>-0.209563</td>\n",
       "      <td>less</td>\n",
       "    </tr>\n",
       "    <tr>\n",
       "      <th>16</th>\n",
       "      <td>-0.320556</td>\n",
       "      <td>product</td>\n",
       "    </tr>\n",
       "    <tr>\n",
       "      <th>18</th>\n",
       "      <td>-0.362167</td>\n",
       "      <td>would</td>\n",
       "    </tr>\n",
       "    <tr>\n",
       "      <th>12</th>\n",
       "      <td>-0.511380</td>\n",
       "      <td>even</td>\n",
       "    </tr>\n",
       "    <tr>\n",
       "      <th>15</th>\n",
       "      <td>-0.621169</td>\n",
       "      <td>work</td>\n",
       "    </tr>\n",
       "    <tr>\n",
       "      <th>17</th>\n",
       "      <td>-0.898031</td>\n",
       "      <td>money</td>\n",
       "    </tr>\n",
       "    <tr>\n",
       "      <th>10</th>\n",
       "      <td>-1.651576</td>\n",
       "      <td>broke</td>\n",
       "    </tr>\n",
       "    <tr>\n",
       "      <th>13</th>\n",
       "      <td>-2.033699</td>\n",
       "      <td>waste</td>\n",
       "    </tr>\n",
       "    <tr>\n",
       "      <th>19</th>\n",
       "      <td>-2.109331</td>\n",
       "      <td>return</td>\n",
       "    </tr>\n",
       "    <tr>\n",
       "      <th>14</th>\n",
       "      <td>-2.348298</td>\n",
       "      <td>disappointed</td>\n",
       "    </tr>\n",
       "  </tbody>\n",
       "</table>\n",
       "</div>"
      ],
      "text/plain": [
       "    coefficient          word\n",
       "6      1.673074         loves\n",
       "5      1.509812       perfect\n",
       "0      1.363690          love\n",
       "2      1.192538          easy\n",
       "1      0.944000         great\n",
       "4      0.520186        little\n",
       "7      0.503760          well\n",
       "8      0.190909          able\n",
       "3      0.085513           old\n",
       "9      0.058855           car\n",
       "11    -0.209563          less\n",
       "16    -0.320556       product\n",
       "18    -0.362167         would\n",
       "12    -0.511380          even\n",
       "15    -0.621169          work\n",
       "17    -0.898031         money\n",
       "10    -1.651576         broke\n",
       "13    -2.033699         waste\n",
       "19    -2.109331        return\n",
       "14    -2.348298  disappointed"
      ]
     },
     "execution_count": 286,
     "metadata": {},
     "output_type": "execute_result"
    }
   ],
   "source": [
    "### Print cofficient in descending order\n",
    "simple_model_coef_table.sort_values('coefficient',ascending=False)"
   ]
  },
  {
   "cell_type": "code",
   "execution_count": 287,
   "metadata": {},
   "outputs": [
    {
     "name": "stdout",
     "output_type": "stream",
     "text": [
      "Accuracy of sentiment model on train data =  0.968504527193\n"
     ]
    }
   ],
   "source": [
    "prediction_train_data_sentiment_model = model.predict(train_matrix)\n",
    "print 'Accuracy of sentiment model on train data = ', accuracy(prediction_train_data_sentiment_model, train_data['sentiment'])"
   ]
  },
  {
   "cell_type": "code",
   "execution_count": 288,
   "metadata": {},
   "outputs": [
    {
     "name": "stdout",
     "output_type": "stream",
     "text": [
      "Accuracy of simple model on train data =  0.866822570007\n"
     ]
    }
   ],
   "source": [
    "prediction_train_data_simple_model = simple_model.predict(train_matrix_word_subset)\n",
    "print 'Accuracy of simple model on train data = ', accuracy(prediction_train_data_simple_model, train_data['sentiment'])"
   ]
  },
  {
   "cell_type": "code",
   "execution_count": 289,
   "metadata": {},
   "outputs": [
    {
     "name": "stdout",
     "output_type": "stream",
     "text": [
      "Accuracy of sentiment model on test data =  0.932295416367\n"
     ]
    }
   ],
   "source": [
    "prediction_test_data_sentiment_model = model.predict(test_matrix)\n",
    "print 'Accuracy of sentiment model on test data = ', accuracy(prediction_test_data_sentiment_model, test_data['sentiment'])"
   ]
  },
  {
   "cell_type": "code",
   "execution_count": 290,
   "metadata": {},
   "outputs": [
    {
     "name": "stdout",
     "output_type": "stream",
     "text": [
      "Accuracy of simple model on test data =  0.869360451164\n"
     ]
    }
   ],
   "source": [
    "prediction_test_data_simple_model = simple_model.predict(test_matrix_word_subset)\n",
    "print 'Accuracy of simple model on test data = ', accuracy(prediction_test_data_simple_model, test_data['sentiment'])"
   ]
  },
  {
   "cell_type": "markdown",
   "metadata": {},
   "source": [
    "#### Majority class classifier\n",
    "### This will assign all example with majority class"
   ]
  },
  {
   "cell_type": "code",
   "execution_count": 291,
   "metadata": {},
   "outputs": [
    {
     "name": "stdout",
     "output_type": "stream",
     "text": [
      "1\n"
     ]
    }
   ],
   "source": [
    "### Check which class is the majority class in the training data\n",
    "if  train_data['sentiment'].sum() > 0:\n",
    "    majority_class = 1\n",
    "else:\n",
    "    majority_class = -1\n",
    "    \n",
    "print majority_class"
   ]
  },
  {
   "cell_type": "code",
   "execution_count": 292,
   "metadata": {
    "collapsed": true
   },
   "outputs": [],
   "source": [
    "### So as per majority class classifier, we will mark all as 1\n",
    "### So, total number of wrong prediction will be number of -1 in test data\n",
    "test_data_negative_class = test_data[test_data['sentiment'] == -1]"
   ]
  },
  {
   "cell_type": "code",
   "execution_count": 293,
   "metadata": {},
   "outputs": [
    {
     "data": {
      "text/plain": [
       "5241"
      ]
     },
     "execution_count": 293,
     "metadata": {},
     "output_type": "execute_result"
    }
   ],
   "source": [
    "len(test_data_negative_class)"
   ]
  },
  {
   "cell_type": "code",
   "execution_count": 294,
   "metadata": {},
   "outputs": [
    {
     "name": "stdout",
     "output_type": "stream",
     "text": [
      "Accuracy of majority class on test data =  0.842782577394\n"
     ]
    }
   ],
   "source": [
    "print 'Accuracy of majority class on test data = ', (len(test_data) - len(test_data_negative_class)) * 1.0 / len(test_data)"
   ]
  },
  {
   "cell_type": "markdown",
   "metadata": {
    "collapsed": true
   },
   "source": [
    "# All quiz question can be answered from this notebook"
   ]
  },
  {
   "cell_type": "code",
   "execution_count": null,
   "metadata": {
    "collapsed": true
   },
   "outputs": [],
   "source": []
  }
 ],
 "metadata": {
  "kernelspec": {
   "display_name": "Python 2",
   "language": "python",
   "name": "python2"
  },
  "language_info": {
   "codemirror_mode": {
    "name": "ipython",
    "version": 2
   },
   "file_extension": ".py",
   "mimetype": "text/x-python",
   "name": "python",
   "nbconvert_exporter": "python",
   "pygments_lexer": "ipython2",
   "version": "2.7.13"
  }
 },
 "nbformat": 4,
 "nbformat_minor": 2
}
