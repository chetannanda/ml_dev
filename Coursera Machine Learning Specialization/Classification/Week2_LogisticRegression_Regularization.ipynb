{
 "cells": [
  {
   "cell_type": "markdown",
   "metadata": {},
   "source": [
    "### This notebook for week 2 quiz, Logistic regression with regularization\n",
    "### Will be using numpy and pandas"
   ]
  },
  {
   "cell_type": "code",
   "execution_count": 96,
   "metadata": {
    "collapsed": true
   },
   "outputs": [],
   "source": [
    "import numpy as np\n",
    "import matplotlib.pyplot as plt\n",
    "import pandas as pd\n",
    "import string"
   ]
  },
  {
   "cell_type": "markdown",
   "metadata": {},
   "source": [
    "#### Load Amazon product data"
   ]
  },
  {
   "cell_type": "code",
   "execution_count": 97,
   "metadata": {},
   "outputs": [
    {
     "data": {
      "text/html": [
       "<div>\n",
       "<style>\n",
       "    .dataframe thead tr:only-child th {\n",
       "        text-align: right;\n",
       "    }\n",
       "\n",
       "    .dataframe thead th {\n",
       "        text-align: left;\n",
       "    }\n",
       "\n",
       "    .dataframe tbody tr th {\n",
       "        vertical-align: top;\n",
       "    }\n",
       "</style>\n",
       "<table border=\"1\" class=\"dataframe\">\n",
       "  <thead>\n",
       "    <tr style=\"text-align: right;\">\n",
       "      <th></th>\n",
       "      <th>name</th>\n",
       "      <th>review</th>\n",
       "      <th>rating</th>\n",
       "      <th>sentiment</th>\n",
       "    </tr>\n",
       "  </thead>\n",
       "  <tbody>\n",
       "    <tr>\n",
       "      <th>0</th>\n",
       "      <td>Stop Pacifier Sucking without tears with Thumb...</td>\n",
       "      <td>All of my kids have cried non-stop when I trie...</td>\n",
       "      <td>5</td>\n",
       "      <td>1</td>\n",
       "    </tr>\n",
       "    <tr>\n",
       "      <th>1</th>\n",
       "      <td>Nature's Lullabies Second Year Sticker Calendar</td>\n",
       "      <td>We wanted to get something to keep track of ou...</td>\n",
       "      <td>5</td>\n",
       "      <td>1</td>\n",
       "    </tr>\n",
       "    <tr>\n",
       "      <th>2</th>\n",
       "      <td>Nature's Lullabies Second Year Sticker Calendar</td>\n",
       "      <td>My daughter had her 1st baby over a year ago. ...</td>\n",
       "      <td>5</td>\n",
       "      <td>1</td>\n",
       "    </tr>\n",
       "    <tr>\n",
       "      <th>3</th>\n",
       "      <td>Lamaze Peekaboo, I Love You</td>\n",
       "      <td>One of baby's first and favorite books, and it...</td>\n",
       "      <td>4</td>\n",
       "      <td>1</td>\n",
       "    </tr>\n",
       "    <tr>\n",
       "      <th>4</th>\n",
       "      <td>SoftPlay Peek-A-Boo Where's Elmo A Children's ...</td>\n",
       "      <td>Very cute interactive book! My son loves this ...</td>\n",
       "      <td>5</td>\n",
       "      <td>1</td>\n",
       "    </tr>\n",
       "  </tbody>\n",
       "</table>\n",
       "</div>"
      ],
      "text/plain": [
       "                                                name  \\\n",
       "0  Stop Pacifier Sucking without tears with Thumb...   \n",
       "1    Nature's Lullabies Second Year Sticker Calendar   \n",
       "2    Nature's Lullabies Second Year Sticker Calendar   \n",
       "3                        Lamaze Peekaboo, I Love You   \n",
       "4  SoftPlay Peek-A-Boo Where's Elmo A Children's ...   \n",
       "\n",
       "                                              review  rating  sentiment  \n",
       "0  All of my kids have cried non-stop when I trie...       5          1  \n",
       "1  We wanted to get something to keep track of ou...       5          1  \n",
       "2  My daughter had her 1st baby over a year ago. ...       5          1  \n",
       "3  One of baby's first and favorite books, and it...       4          1  \n",
       "4  Very cute interactive book! My son loves this ...       5          1  "
      ]
     },
     "execution_count": 97,
     "metadata": {},
     "output_type": "execute_result"
    }
   ],
   "source": [
    "products = pd.read_csv('amazon_baby_subset.csv')\n",
    "\n",
    "## Print sample data\n",
    "products.head()\n"
   ]
  },
  {
   "cell_type": "code",
   "execution_count": 98,
   "metadata": {},
   "outputs": [
    {
     "name": "stdout",
     "output_type": "stream",
     "text": [
      "Total number of samples:  53072\n",
      "Number of positive sample:  26579\n",
      "Number of negative sample:  26493\n"
     ]
    }
   ],
   "source": [
    "### Data exploration \n",
    "print 'Total number of samples: ', len(products)\n",
    "print 'Number of positive sample: ', len(products[products['sentiment'] == 1])\n",
    "print 'Number of negative sample: ', len(products[products['sentiment'] == -1])"
   ]
  },
  {
   "cell_type": "markdown",
   "metadata": {},
   "source": [
    "#### Load important words"
   ]
  },
  {
   "cell_type": "code",
   "execution_count": 99,
   "metadata": {
    "collapsed": true
   },
   "outputs": [],
   "source": [
    "important_words = pd.read_json('important_words.json')\n",
    "important_words = important_words.values.flatten()"
   ]
  },
  {
   "cell_type": "markdown",
   "metadata": {},
   "source": [
    "#### Perform data cleaning"
   ]
  },
  {
   "cell_type": "code",
   "execution_count": 100,
   "metadata": {
    "collapsed": true
   },
   "outputs": [],
   "source": [
    "def remove_punctuation(text):\n",
    "    text = text.translate(None, string.punctuation)\n",
    "    return text"
   ]
  },
  {
   "cell_type": "code",
   "execution_count": 101,
   "metadata": {},
   "outputs": [
    {
     "name": "stdout",
     "output_type": "stream",
     "text": [
      "Converted text:  This isnt an issue \n"
     ]
    }
   ],
   "source": [
    "sample_text = \"This isn't an issue !!!\"\n",
    "print 'Converted text: ', remove_punctuation(sample_text)"
   ]
  },
  {
   "cell_type": "code",
   "execution_count": 102,
   "metadata": {},
   "outputs": [
    {
     "data": {
      "text/html": [
       "<div>\n",
       "<style>\n",
       "    .dataframe thead tr:only-child th {\n",
       "        text-align: right;\n",
       "    }\n",
       "\n",
       "    .dataframe thead th {\n",
       "        text-align: left;\n",
       "    }\n",
       "\n",
       "    .dataframe tbody tr th {\n",
       "        vertical-align: top;\n",
       "    }\n",
       "</style>\n",
       "<table border=\"1\" class=\"dataframe\">\n",
       "  <thead>\n",
       "    <tr style=\"text-align: right;\">\n",
       "      <th></th>\n",
       "      <th>name</th>\n",
       "      <th>review</th>\n",
       "      <th>rating</th>\n",
       "      <th>sentiment</th>\n",
       "      <th>review_clean</th>\n",
       "    </tr>\n",
       "  </thead>\n",
       "  <tbody>\n",
       "    <tr>\n",
       "      <th>0</th>\n",
       "      <td>Stop Pacifier Sucking without tears with Thumb...</td>\n",
       "      <td>All of my kids have cried non-stop when I trie...</td>\n",
       "      <td>5</td>\n",
       "      <td>1</td>\n",
       "      <td>All of my kids have cried nonstop when I tried...</td>\n",
       "    </tr>\n",
       "    <tr>\n",
       "      <th>1</th>\n",
       "      <td>Nature's Lullabies Second Year Sticker Calendar</td>\n",
       "      <td>We wanted to get something to keep track of ou...</td>\n",
       "      <td>5</td>\n",
       "      <td>1</td>\n",
       "      <td>We wanted to get something to keep track of ou...</td>\n",
       "    </tr>\n",
       "    <tr>\n",
       "      <th>2</th>\n",
       "      <td>Nature's Lullabies Second Year Sticker Calendar</td>\n",
       "      <td>My daughter had her 1st baby over a year ago. ...</td>\n",
       "      <td>5</td>\n",
       "      <td>1</td>\n",
       "      <td>My daughter had her 1st baby over a year ago S...</td>\n",
       "    </tr>\n",
       "    <tr>\n",
       "      <th>3</th>\n",
       "      <td>Lamaze Peekaboo, I Love You</td>\n",
       "      <td>One of baby's first and favorite books, and it...</td>\n",
       "      <td>4</td>\n",
       "      <td>1</td>\n",
       "      <td>One of babys first and favorite books and it i...</td>\n",
       "    </tr>\n",
       "    <tr>\n",
       "      <th>4</th>\n",
       "      <td>SoftPlay Peek-A-Boo Where's Elmo A Children's ...</td>\n",
       "      <td>Very cute interactive book! My son loves this ...</td>\n",
       "      <td>5</td>\n",
       "      <td>1</td>\n",
       "      <td>Very cute interactive book My son loves this b...</td>\n",
       "    </tr>\n",
       "  </tbody>\n",
       "</table>\n",
       "</div>"
      ],
      "text/plain": [
       "                                                name  \\\n",
       "0  Stop Pacifier Sucking without tears with Thumb...   \n",
       "1    Nature's Lullabies Second Year Sticker Calendar   \n",
       "2    Nature's Lullabies Second Year Sticker Calendar   \n",
       "3                        Lamaze Peekaboo, I Love You   \n",
       "4  SoftPlay Peek-A-Boo Where's Elmo A Children's ...   \n",
       "\n",
       "                                              review  rating  sentiment  \\\n",
       "0  All of my kids have cried non-stop when I trie...       5          1   \n",
       "1  We wanted to get something to keep track of ou...       5          1   \n",
       "2  My daughter had her 1st baby over a year ago. ...       5          1   \n",
       "3  One of baby's first and favorite books, and it...       4          1   \n",
       "4  Very cute interactive book! My son loves this ...       5          1   \n",
       "\n",
       "                                        review_clean  \n",
       "0  All of my kids have cried nonstop when I tried...  \n",
       "1  We wanted to get something to keep track of ou...  \n",
       "2  My daughter had her 1st baby over a year ago S...  \n",
       "3  One of babys first and favorite books and it i...  \n",
       "4  Very cute interactive book My son loves this b...  "
      ]
     },
     "execution_count": 102,
     "metadata": {},
     "output_type": "execute_result"
    }
   ],
   "source": [
    "### Fill all n/a in review column with empty (\"\") string\n",
    "products = products.fillna({'review':''})\n",
    "\n",
    "### Remove punctuation\n",
    "products['review_clean'] = products['review'].apply(remove_punctuation)\n",
    "products.head()"
   ]
  },
  {
   "cell_type": "markdown",
   "metadata": {},
   "source": [
    "#### 'Bag of Words' text analysis on review_clean column"
   ]
  },
  {
   "cell_type": "code",
   "execution_count": 103,
   "metadata": {
    "collapsed": true
   },
   "outputs": [],
   "source": [
    "for word in important_words:\n",
    "    #print word\n",
    "    products[word] = products['review_clean'].apply(lambda s: s.split().count(word))"
   ]
  },
  {
   "cell_type": "code",
   "execution_count": 104,
   "metadata": {},
   "outputs": [
    {
     "data": {
      "text/html": [
       "<div>\n",
       "<style>\n",
       "    .dataframe thead tr:only-child th {\n",
       "        text-align: right;\n",
       "    }\n",
       "\n",
       "    .dataframe thead th {\n",
       "        text-align: left;\n",
       "    }\n",
       "\n",
       "    .dataframe tbody tr th {\n",
       "        vertical-align: top;\n",
       "    }\n",
       "</style>\n",
       "<table border=\"1\" class=\"dataframe\">\n",
       "  <thead>\n",
       "    <tr style=\"text-align: right;\">\n",
       "      <th></th>\n",
       "      <th>name</th>\n",
       "      <th>review</th>\n",
       "      <th>rating</th>\n",
       "      <th>sentiment</th>\n",
       "      <th>review_clean</th>\n",
       "      <th>baby</th>\n",
       "      <th>one</th>\n",
       "      <th>great</th>\n",
       "      <th>love</th>\n",
       "      <th>use</th>\n",
       "      <th>...</th>\n",
       "      <th>seems</th>\n",
       "      <th>picture</th>\n",
       "      <th>completely</th>\n",
       "      <th>wish</th>\n",
       "      <th>buying</th>\n",
       "      <th>babies</th>\n",
       "      <th>won</th>\n",
       "      <th>tub</th>\n",
       "      <th>almost</th>\n",
       "      <th>either</th>\n",
       "    </tr>\n",
       "  </thead>\n",
       "  <tbody>\n",
       "    <tr>\n",
       "      <th>0</th>\n",
       "      <td>Stop Pacifier Sucking without tears with Thumb...</td>\n",
       "      <td>All of my kids have cried non-stop when I trie...</td>\n",
       "      <td>5</td>\n",
       "      <td>1</td>\n",
       "      <td>All of my kids have cried nonstop when I tried...</td>\n",
       "      <td>0</td>\n",
       "      <td>0</td>\n",
       "      <td>1</td>\n",
       "      <td>0</td>\n",
       "      <td>0</td>\n",
       "      <td>...</td>\n",
       "      <td>0</td>\n",
       "      <td>0</td>\n",
       "      <td>0</td>\n",
       "      <td>0</td>\n",
       "      <td>0</td>\n",
       "      <td>0</td>\n",
       "      <td>0</td>\n",
       "      <td>0</td>\n",
       "      <td>0</td>\n",
       "      <td>0</td>\n",
       "    </tr>\n",
       "    <tr>\n",
       "      <th>1</th>\n",
       "      <td>Nature's Lullabies Second Year Sticker Calendar</td>\n",
       "      <td>We wanted to get something to keep track of ou...</td>\n",
       "      <td>5</td>\n",
       "      <td>1</td>\n",
       "      <td>We wanted to get something to keep track of ou...</td>\n",
       "      <td>0</td>\n",
       "      <td>0</td>\n",
       "      <td>0</td>\n",
       "      <td>0</td>\n",
       "      <td>0</td>\n",
       "      <td>...</td>\n",
       "      <td>0</td>\n",
       "      <td>0</td>\n",
       "      <td>0</td>\n",
       "      <td>0</td>\n",
       "      <td>0</td>\n",
       "      <td>0</td>\n",
       "      <td>0</td>\n",
       "      <td>0</td>\n",
       "      <td>0</td>\n",
       "      <td>0</td>\n",
       "    </tr>\n",
       "    <tr>\n",
       "      <th>2</th>\n",
       "      <td>Nature's Lullabies Second Year Sticker Calendar</td>\n",
       "      <td>My daughter had her 1st baby over a year ago. ...</td>\n",
       "      <td>5</td>\n",
       "      <td>1</td>\n",
       "      <td>My daughter had her 1st baby over a year ago S...</td>\n",
       "      <td>1</td>\n",
       "      <td>0</td>\n",
       "      <td>0</td>\n",
       "      <td>0</td>\n",
       "      <td>0</td>\n",
       "      <td>...</td>\n",
       "      <td>0</td>\n",
       "      <td>0</td>\n",
       "      <td>0</td>\n",
       "      <td>0</td>\n",
       "      <td>0</td>\n",
       "      <td>0</td>\n",
       "      <td>0</td>\n",
       "      <td>0</td>\n",
       "      <td>0</td>\n",
       "      <td>0</td>\n",
       "    </tr>\n",
       "    <tr>\n",
       "      <th>3</th>\n",
       "      <td>Lamaze Peekaboo, I Love You</td>\n",
       "      <td>One of baby's first and favorite books, and it...</td>\n",
       "      <td>4</td>\n",
       "      <td>1</td>\n",
       "      <td>One of babys first and favorite books and it i...</td>\n",
       "      <td>0</td>\n",
       "      <td>0</td>\n",
       "      <td>0</td>\n",
       "      <td>0</td>\n",
       "      <td>0</td>\n",
       "      <td>...</td>\n",
       "      <td>0</td>\n",
       "      <td>0</td>\n",
       "      <td>0</td>\n",
       "      <td>0</td>\n",
       "      <td>0</td>\n",
       "      <td>0</td>\n",
       "      <td>0</td>\n",
       "      <td>0</td>\n",
       "      <td>0</td>\n",
       "      <td>0</td>\n",
       "    </tr>\n",
       "    <tr>\n",
       "      <th>4</th>\n",
       "      <td>SoftPlay Peek-A-Boo Where's Elmo A Children's ...</td>\n",
       "      <td>Very cute interactive book! My son loves this ...</td>\n",
       "      <td>5</td>\n",
       "      <td>1</td>\n",
       "      <td>Very cute interactive book My son loves this b...</td>\n",
       "      <td>0</td>\n",
       "      <td>0</td>\n",
       "      <td>1</td>\n",
       "      <td>0</td>\n",
       "      <td>0</td>\n",
       "      <td>...</td>\n",
       "      <td>0</td>\n",
       "      <td>0</td>\n",
       "      <td>0</td>\n",
       "      <td>0</td>\n",
       "      <td>0</td>\n",
       "      <td>1</td>\n",
       "      <td>0</td>\n",
       "      <td>0</td>\n",
       "      <td>0</td>\n",
       "      <td>0</td>\n",
       "    </tr>\n",
       "  </tbody>\n",
       "</table>\n",
       "<p>5 rows × 198 columns</p>\n",
       "</div>"
      ],
      "text/plain": [
       "                                                name  \\\n",
       "0  Stop Pacifier Sucking without tears with Thumb...   \n",
       "1    Nature's Lullabies Second Year Sticker Calendar   \n",
       "2    Nature's Lullabies Second Year Sticker Calendar   \n",
       "3                        Lamaze Peekaboo, I Love You   \n",
       "4  SoftPlay Peek-A-Boo Where's Elmo A Children's ...   \n",
       "\n",
       "                                              review  rating  sentiment  \\\n",
       "0  All of my kids have cried non-stop when I trie...       5          1   \n",
       "1  We wanted to get something to keep track of ou...       5          1   \n",
       "2  My daughter had her 1st baby over a year ago. ...       5          1   \n",
       "3  One of baby's first and favorite books, and it...       4          1   \n",
       "4  Very cute interactive book! My son loves this ...       5          1   \n",
       "\n",
       "                                        review_clean  baby  one  great  love  \\\n",
       "0  All of my kids have cried nonstop when I tried...     0    0      1     0   \n",
       "1  We wanted to get something to keep track of ou...     0    0      0     0   \n",
       "2  My daughter had her 1st baby over a year ago S...     1    0      0     0   \n",
       "3  One of babys first and favorite books and it i...     0    0      0     0   \n",
       "4  Very cute interactive book My son loves this b...     0    0      1     0   \n",
       "\n",
       "   use   ...    seems  picture  completely  wish  buying  babies  won  tub  \\\n",
       "0    0   ...        0        0           0     0       0       0    0    0   \n",
       "1    0   ...        0        0           0     0       0       0    0    0   \n",
       "2    0   ...        0        0           0     0       0       0    0    0   \n",
       "3    0   ...        0        0           0     0       0       0    0    0   \n",
       "4    0   ...        0        0           0     0       0       1    0    0   \n",
       "\n",
       "   almost  either  \n",
       "0       0       0  \n",
       "1       0       0  \n",
       "2       0       0  \n",
       "3       0       0  \n",
       "4       0       0  \n",
       "\n",
       "[5 rows x 198 columns]"
      ]
     },
     "execution_count": 104,
     "metadata": {},
     "output_type": "execute_result"
    }
   ],
   "source": [
    "#### After bag of words analysis for important words\n",
    "products.head()"
   ]
  },
  {
   "cell_type": "markdown",
   "metadata": {},
   "source": [
    "### Train-Test splitting"
   ]
  },
  {
   "cell_type": "code",
   "execution_count": 105,
   "metadata": {
    "collapsed": true
   },
   "outputs": [],
   "source": [
    "### Load the indicies files\n",
    "train_indicies = pd.read_json('module-4-assignment-train-idx.json')\n",
    "val_indicies = pd.read_json('module-4-assignment-validation-idx.json')\n",
    "train_indicies = train_indicies.values.flatten()\n",
    "val_indicies = val_indicies.values.flatten()"
   ]
  },
  {
   "cell_type": "code",
   "execution_count": 106,
   "metadata": {},
   "outputs": [
    {
     "name": "stdout",
     "output_type": "stream",
     "text": [
      "Training set size:  (42361, 198)\n",
      "Validation set size:  (10711, 198)\n"
     ]
    }
   ],
   "source": [
    "trainig_set = products.iloc[train_indicies]\n",
    "validation_set = products.iloc[val_indicies]\n",
    "print 'Training set size: ', trainig_set.shape\n",
    "print 'Validation set size: ', validation_set.shape"
   ]
  },
  {
   "cell_type": "markdown",
   "metadata": {},
   "source": [
    "##### Convert data into multidimensional array"
   ]
  },
  {
   "cell_type": "code",
   "execution_count": 107,
   "metadata": {
    "collapsed": true
   },
   "outputs": [],
   "source": [
    "def get_numpy_data(dataframe, features, label):\n",
    "    # Initialize the np array with all ones, the number of columns are +1 \n",
    "    # to accomodate the column for bias feature\n",
    "    matrix_len = len(dataframe)\n",
    "    matrix_width = len(features) + 1\n",
    "    feature_matrix = np.ones((matrix_len, matrix_width))\n",
    "    \n",
    "    print 'Feature matrix size', feature_matrix.shape\n",
    "    i = 1\n",
    "    for feature in features:\n",
    "        feature_matrix[:, i] = dataframe[feature]\n",
    "        i = i +1\n",
    "    return (feature_matrix, dataframe[label])"
   ]
  },
  {
   "cell_type": "code",
   "execution_count": 108,
   "metadata": {},
   "outputs": [
    {
     "name": "stdout",
     "output_type": "stream",
     "text": [
      "Feature matrix size (42361, 194)\n",
      "Feature matrix size (10711, 194)\n"
     ]
    }
   ],
   "source": [
    "## Extract the training and validation data\n",
    "training_data, train_output = get_numpy_data(trainig_set, important_words, 'sentiment')\n",
    "validation_data, validation_output = get_numpy_data(validation_set, important_words, 'sentiment')"
   ]
  },
  {
   "cell_type": "code",
   "execution_count": 109,
   "metadata": {
    "collapsed": true
   },
   "outputs": [],
   "source": [
    "def predict_probability(feature_matrix, coefficients):\n",
    "    return (1.0 / (1 + np.exp(-1 * np.dot(feature_matrix, coefficients))))"
   ]
  },
  {
   "cell_type": "code",
   "execution_count": 110,
   "metadata": {
    "collapsed": true
   },
   "outputs": [],
   "source": [
    "def feature_derivative_with_L2(errors, feature, coefficient, l2_penalty, feature_is_constant):\n",
    "    #print feature\n",
    "    derivative = np.dot(feature, errors)\n",
    "    \n",
    "    if feature_is_constant == True:\n",
    "        derivative = derivative\n",
    "    else:\n",
    "        derivative = derivative - 2 * (l2_penalty * coefficient)\n",
    "        \n",
    "    return derivative;"
   ]
  },
  {
   "cell_type": "markdown",
   "metadata": {},
   "source": [
    "The log-likelihood is computed using the following formula (see the advanced optional video if you are curious about the derivation of this equation):\n",
    "\n",
    "ℓℓ(w)=∑i=1N((1[yi=+1]−1)w⊺h(wi)−ln(1+exp(−w⊺h(xi))))\n"
   ]
  },
  {
   "cell_type": "code",
   "execution_count": 111,
   "metadata": {
    "collapsed": true
   },
   "outputs": [],
   "source": [
    "def compute_log_likelihood_with_L2(feature_matrix, sentiment, coefficients, l2_penalty):\n",
    "    indicator = (sentiment==+1).values.reshape(-1,1)\n",
    "    scores = np.dot(feature_matrix, coefficients)\n",
    "    lp = np.sum((indicator-1)*scores - np.log(1. + np.exp(-scores)))\n",
    "    lp = lp - l2_penalty * (coefficients**2).sum()\n",
    "    return lp"
   ]
  },
  {
   "cell_type": "code",
   "execution_count": 112,
   "metadata": {
    "collapsed": true
   },
   "outputs": [],
   "source": [
    "from math import sqrt\n",
    "def logistic_regression_with_L2(feature_matrix, sentiment, initial_coefficients, step_size, l2_penalty, max_iter):\n",
    "    coefficients = np.array(initial_coefficients)\n",
    "    itr = 0;\n",
    "    while (itr < max_iter):\n",
    "        predictions = predict_probability(feature_matrix, coefficients)\n",
    "        indicator = (sentiment==+1).values.reshape(-1,1)\n",
    "        \n",
    "        #print 'indicator shape', indicator.shape\n",
    "        #print 'predictions shape', predictions.shape\n",
    "        \n",
    "        error = indicator - predictions\n",
    "\n",
    "        for i in xrange(len(coefficients)):\n",
    "            if i == 0:\n",
    "                derivative = feature_derivative_with_L2(error, feature_matrix[:,i], coefficients[i], l2_penalty, True)\n",
    "            else:\n",
    "                derivative = feature_derivative_with_L2(error, feature_matrix[:,i], coefficients[i], l2_penalty, False)\n",
    "            \n",
    "            coefficients[i] = coefficients[i] + step_size * derivative\n",
    "    \n",
    "        # Checking whether log likelihood is increasing\n",
    "        if itr <= 15 or (itr <= 100 and itr % 10 == 0) or (itr <= 1000 and itr % 100 == 0) \\\n",
    "        or (itr <= 10000 and itr % 1000 == 0) or itr % 10000 == 0:\n",
    "            lp = compute_log_likelihood_with_L2(feature_matrix, sentiment, coefficients, l2_penalty)\n",
    "            print 'iteration %*d: log likelihood of observed labels = %.8f' % \\\n",
    "                (int(np.ceil(np.log10(max_iter))), itr, lp)\n",
    "       \n",
    "        itr = itr +1\n",
    "    return coefficients"
   ]
  },
  {
   "cell_type": "code",
   "execution_count": 113,
   "metadata": {},
   "outputs": [
    {
     "name": "stdout",
     "output_type": "stream",
     "text": [
      "(194, 1)\n"
     ]
    }
   ],
   "source": [
    "initial_coefficients = np.zeros((training_data.shape[1], 1))\n",
    "print initial_coefficients.shape\n",
    "step_size = 5e-6\n",
    "max_iter = 501"
   ]
  },
  {
   "cell_type": "code",
   "execution_count": 114,
   "metadata": {},
   "outputs": [
    {
     "name": "stdout",
     "output_type": "stream",
     "text": [
      "Running with L2 Penalty:  0\n",
      "iteration   0: log likelihood of observed labels = -29179.39138303\n",
      "iteration   1: log likelihood of observed labels = -29003.71259047\n",
      "iteration   2: log likelihood of observed labels = -28834.66187288\n",
      "iteration   3: log likelihood of observed labels = -28671.70781507\n",
      "iteration   4: log likelihood of observed labels = -28514.43078198\n",
      "iteration   5: log likelihood of observed labels = -28362.48344665\n",
      "iteration   6: log likelihood of observed labels = -28215.56713122\n",
      "iteration   7: log likelihood of observed labels = -28073.41743783\n",
      "iteration   8: log likelihood of observed labels = -27935.79536396\n",
      "iteration   9: log likelihood of observed labels = -27802.48168669\n",
      "iteration  10: log likelihood of observed labels = -27673.27331484\n",
      "iteration  11: log likelihood of observed labels = -27547.98083656\n",
      "iteration  12: log likelihood of observed labels = -27426.42679977\n",
      "iteration  13: log likelihood of observed labels = -27308.44444728\n",
      "iteration  14: log likelihood of observed labels = -27193.87673876\n",
      "iteration  15: log likelihood of observed labels = -27082.57555831\n",
      "iteration  20: log likelihood of observed labels = -26570.43059938\n",
      "iteration  30: log likelihood of observed labels = -25725.48742389\n",
      "iteration  40: log likelihood of observed labels = -25055.53326910\n",
      "iteration  50: log likelihood of observed labels = -24509.63590026\n",
      "iteration  60: log likelihood of observed labels = -24054.97906083\n",
      "iteration  70: log likelihood of observed labels = -23669.51640848\n",
      "iteration  80: log likelihood of observed labels = -23337.89167628\n",
      "iteration  90: log likelihood of observed labels = -23049.07066021\n",
      "iteration 100: log likelihood of observed labels = -22794.90974921\n",
      "iteration 200: log likelihood of observed labels = -21283.29527353\n",
      "iteration 300: log likelihood of observed labels = -20570.97485473\n",
      "iteration 400: log likelihood of observed labels = -20152.21466944\n",
      "iteration 500: log likelihood of observed labels = -19876.62333410\n",
      "Running with L2 Penalty:  4\n",
      "iteration   0: log likelihood of observed labels = -29179.39508220\n",
      "iteration   1: log likelihood of observed labels = -29003.73417518\n",
      "iteration   2: log likelihood of observed labels = -28834.71442992\n",
      "iteration   3: log likelihood of observed labels = -28671.80347713\n",
      "iteration   4: log likelihood of observed labels = -28514.58082967\n",
      "iteration   5: log likelihood of observed labels = -28362.69838615\n",
      "iteration   6: log likelihood of observed labels = -28215.85675770\n",
      "iteration   7: log likelihood of observed labels = -28073.79089002\n",
      "iteration   8: log likelihood of observed labels = -27936.26117277\n",
      "iteration   9: log likelihood of observed labels = -27803.04781943\n",
      "iteration  10: log likelihood of observed labels = -27673.94721575\n",
      "iteration  11: log likelihood of observed labels = -27548.76946425\n",
      "iteration  12: log likelihood of observed labels = -27427.33666176\n",
      "iteration  13: log likelihood of observed labels = -27309.48163191\n",
      "iteration  14: log likelihood of observed labels = -27195.04694466\n",
      "iteration  15: log likelihood of observed labels = -27083.88412160\n",
      "iteration  20: log likelihood of observed labels = -26572.49995538\n",
      "iteration  30: log likelihood of observed labels = -25729.32786260\n",
      "iteration  40: log likelihood of observed labels = -25061.34446793\n",
      "iteration  50: log likelihood of observed labels = -24517.52277446\n",
      "iteration  60: log likelihood of observed labels = -24064.99243588\n",
      "iteration  70: log likelihood of observed labels = -23681.67480054\n",
      "iteration  80: log likelihood of observed labels = -23352.19363831\n",
      "iteration  90: log likelihood of observed labels = -23065.50211949\n",
      "iteration 100: log likelihood of observed labels = -22813.44854338\n",
      "iteration 200: log likelihood of observed labels = -21321.14506210\n",
      "iteration 300: log likelihood of observed labels = -20624.99567836\n",
      "iteration 400: log likelihood of observed labels = -20219.93399493\n",
      "iteration 500: log likelihood of observed labels = -19956.12936596\n",
      "Running with L2 Penalty:  10\n",
      "iteration   0: log likelihood of observed labels = -29179.40063095\n",
      "iteration   1: log likelihood of observed labels = -29003.76655006\n",
      "iteration   2: log likelihood of observed labels = -28834.79325488\n",
      "iteration   3: log likelihood of observed labels = -28671.94694140\n",
      "iteration   4: log likelihood of observed labels = -28514.80584116\n",
      "iteration   5: log likelihood of observed labels = -28363.02068822\n",
      "iteration   6: log likelihood of observed labels = -28216.29102461\n",
      "iteration   7: log likelihood of observed labels = -28074.35080906\n",
      "iteration   8: log likelihood of observed labels = -27936.95951745\n",
      "iteration   9: log likelihood of observed labels = -27803.89651595\n",
      "iteration  10: log likelihood of observed labels = -27674.95740407\n",
      "iteration  11: log likelihood of observed labels = -27549.95155435\n",
      "iteration  12: log likelihood of observed labels = -27428.70038563\n",
      "iteration  13: log likelihood of observed labels = -27311.03609159\n",
      "iteration  14: log likelihood of observed labels = -27196.80065653\n",
      "iteration  15: log likelihood of observed labels = -27085.84505728\n",
      "iteration  20: log likelihood of observed labels = -26575.60000296\n",
      "iteration  30: log likelihood of observed labels = -25735.07759824\n",
      "iteration  40: log likelihood of observed labels = -25070.03949900\n",
      "iteration  50: log likelihood of observed labels = -24529.31652078\n",
      "iteration  60: log likelihood of observed labels = -24079.95724400\n",
      "iteration  70: log likelihood of observed labels = -23699.83466117\n",
      "iteration  80: log likelihood of observed labels = -23373.54272578\n",
      "iteration  90: log likelihood of observed labels = -23090.01580560\n",
      "iteration 100: log likelihood of observed labels = -22841.09020283\n",
      "iteration 200: log likelihood of observed labels = -21377.26431866\n",
      "iteration 300: log likelihood of observed labels = -20704.66278782\n",
      "iteration 400: log likelihood of observed labels = -20319.28978520\n",
      "iteration 500: log likelihood of observed labels = -20072.20197524\n",
      "Running with L2 Penalty:  100.0\n",
      "iteration   0: log likelihood of observed labels = -29179.48386225\n",
      "iteration   1: log likelihood of observed labels = -29004.25185888\n",
      "iteration   2: log likelihood of observed labels = -28835.97410517\n",
      "iteration   3: log likelihood of observed labels = -28674.09476156\n",
      "iteration   4: log likelihood of observed labels = -28518.17238064\n",
      "iteration   5: log likelihood of observed labels = -28367.83981791\n",
      "iteration   6: log likelihood of observed labels = -28222.78021127\n",
      "iteration   7: log likelihood of observed labels = -28082.71238613\n",
      "iteration   8: log likelihood of observed labels = -27947.38181741\n",
      "iteration   9: log likelihood of observed labels = -27816.55489892\n",
      "iteration  10: log likelihood of observed labels = -27690.01520144\n",
      "iteration  11: log likelihood of observed labels = -27567.56093818\n",
      "iteration  12: log likelihood of observed labels = -27449.00317089\n",
      "iteration  13: log likelihood of observed labels = -27334.16447646\n",
      "iteration  14: log likelihood of observed labels = -27222.87790538\n",
      "iteration  15: log likelihood of observed labels = -27114.98613053\n",
      "iteration  20: log likelihood of observed labels = -26621.53218120\n",
      "iteration  30: log likelihood of observed labels = -25819.77348477\n",
      "iteration  40: log likelihood of observed labels = -25197.39078283\n",
      "iteration  50: log likelihood of observed labels = -24701.08396766\n",
      "iteration  60: log likelihood of observed labels = -24296.70231875\n",
      "iteration  70: log likelihood of observed labels = -23961.41656854\n",
      "iteration  80: log likelihood of observed labels = -23679.39894525\n",
      "iteration  90: log likelihood of observed labels = -23439.32791707\n",
      "iteration 100: log likelihood of observed labels = -23232.88567311\n",
      "iteration 200: log likelihood of observed labels = -22133.56829871\n",
      "iteration 300: log likelihood of observed labels = -21730.20307526\n",
      "iteration 400: log likelihood of observed labels = -21546.10120500\n",
      "iteration 500: log likelihood of observed labels = -21452.20991676\n",
      "Running with L2 Penalty:  1000.0\n",
      "iteration   0: log likelihood of observed labels = -29180.31617526\n",
      "iteration   1: log likelihood of observed labels = -29009.07260422\n",
      "iteration   2: log likelihood of observed labels = -28847.62661362\n",
      "iteration   3: log likelihood of observed labels = -28695.15095785\n",
      "iteration   4: log likelihood of observed labels = -28550.96299049\n",
      "iteration   5: log likelihood of observed labels = -28414.47813280\n",
      "iteration   6: log likelihood of observed labels = -28285.18191369\n",
      "iteration   7: log likelihood of observed labels = -28162.61277051\n",
      "iteration   8: log likelihood of observed labels = -28046.35112848\n",
      "iteration   9: log likelihood of observed labels = -27936.01218790\n"
     ]
    },
    {
     "name": "stdout",
     "output_type": "stream",
     "text": [
      "iteration  10: log likelihood of observed labels = -27831.24093409\n",
      "iteration  11: log likelihood of observed labels = -27731.70850491\n",
      "iteration  12: log likelihood of observed labels = -27637.10940782\n",
      "iteration  13: log likelihood of observed labels = -27547.15928610\n",
      "iteration  14: log likelihood of observed labels = -27461.59305444\n",
      "iteration  15: log likelihood of observed labels = -27380.16329573\n",
      "iteration  20: log likelihood of observed labels = -27027.47302631\n",
      "iteration  30: log likelihood of observed labels = -26527.67369887\n",
      "iteration  40: log likelihood of observed labels = -26207.10815677\n",
      "iteration  50: log likelihood of observed labels = -25996.48934850\n",
      "iteration  60: log likelihood of observed labels = -25855.43709251\n",
      "iteration  70: log likelihood of observed labels = -25759.49953854\n",
      "iteration  80: log likelihood of observed labels = -25693.40742351\n",
      "iteration  90: log likelihood of observed labels = -25647.38445043\n",
      "iteration 100: log likelihood of observed labels = -25615.04148888\n",
      "iteration 200: log likelihood of observed labels = -25536.22246555\n",
      "iteration 300: log likelihood of observed labels = -25532.57736229\n",
      "iteration 400: log likelihood of observed labels = -25532.35545643\n",
      "iteration 500: log likelihood of observed labels = -25532.33970339\n",
      "Running with L2 Penalty:  100000.0\n",
      "iteration   0: log likelihood of observed labels = -29271.87060678\n",
      "iteration   1: log likelihood of observed labels = -29271.79437591\n",
      "iteration   2: log likelihood of observed labels = -29271.85698455\n",
      "iteration   3: log likelihood of observed labels = -29271.97150743\n",
      "iteration   4: log likelihood of observed labels = -29272.12484805\n",
      "iteration   5: log likelihood of observed labels = -29272.31184540\n",
      "iteration   6: log likelihood of observed labels = -29272.52672514\n",
      "iteration   7: log likelihood of observed labels = -29272.76471749\n",
      "iteration   8: log likelihood of observed labels = -29273.02152421\n",
      "iteration   9: log likelihood of observed labels = -29273.29337512\n",
      "iteration  10: log likelihood of observed labels = -29273.57694784\n",
      "iteration  11: log likelihood of observed labels = -29273.86932677\n",
      "iteration  12: log likelihood of observed labels = -29274.16795888\n",
      "iteration  13: log likelihood of observed labels = -29274.47061557\n",
      "iteration  14: log likelihood of observed labels = -29274.77535788\n",
      "iteration  15: log likelihood of observed labels = -29275.08050537\n",
      "iteration  20: log likelihood of observed labels = -29276.56829296\n",
      "iteration  30: log likelihood of observed labels = -29279.09298658\n",
      "iteration  40: log likelihood of observed labels = -29280.89128588\n",
      "iteration  50: log likelihood of observed labels = -29282.08318576\n",
      "iteration  60: log likelihood of observed labels = -29282.84494378\n",
      "iteration  70: log likelihood of observed labels = -29283.32217349\n",
      "iteration  80: log likelihood of observed labels = -29283.61775071\n",
      "iteration  90: log likelihood of observed labels = -29283.79959368\n",
      "iteration 100: log likelihood of observed labels = -29283.91101875\n",
      "iteration 200: log likelihood of observed labels = -29284.08437769\n",
      "iteration 300: log likelihood of observed labels = -29284.08559898\n",
      "iteration 400: log likelihood of observed labels = -29284.08560756\n",
      "iteration 500: log likelihood of observed labels = -29284.08560762\n"
     ]
    }
   ],
   "source": [
    "l2_penalties = [0, 4, 10, 1e2, 1e3, 1e5]\n",
    "coefficients = []\n",
    "for l2_penalty in l2_penalties:\n",
    "    print 'Running with L2 Penalty: ', l2_penalty\n",
    "    coefficient = logistic_regression_with_L2(training_data, train_output, initial_coefficients, step_size, l2_penalty, max_iter)\n",
    "    coefficients.append(coefficient)"
   ]
  },
  {
   "cell_type": "code",
   "execution_count": 134,
   "metadata": {},
   "outputs": [
    {
     "data": {
      "text/plain": [
       "(193, 6)"
      ]
     },
     "execution_count": 134,
     "metadata": {},
     "output_type": "execute_result"
    }
   ],
   "source": [
    "### Create table \n",
    "coefficients_wo_intercept = np.array(coefficients).reshape(len(l2_penalties), len(important_words) + 1)[:,1:]\n",
    "#coefficients_wo_intercept = np.array(coefficients_wo_intercept).reshape(5, 194)\n",
    "coefficients_wo_intercept = coefficients_wo_intercept.transpose()\n",
    "coefficients_wo_intercept.shape\n",
    "#coefficients_wo_intercept"
   ]
  },
  {
   "cell_type": "code",
   "execution_count": 163,
   "metadata": {},
   "outputs": [
    {
     "data": {
      "text/plain": [
       "[(u'love', 1.0585539820695435),\n",
       " (u'loves', 1.0524840477983537),\n",
       " (u'easy', 0.98455881987319227),\n",
       " (u'perfect', 0.83569320763834631),\n",
       " (u'great', 0.80162498977817642),\n",
       " (u'happy', 0.55739520236344631),\n",
       " (u'best', 0.53503388977177702),\n",
       " (u'little', 0.5244194563643344),\n",
       " (u'fits', 0.48765225326529715),\n",
       " (u'well', 0.45386648676755048),\n",
       " (u'nice', 0.42939368687365687),\n",
       " (u'soft', 0.36178253568480429),\n",
       " (u'recommend', 0.35830984214048356),\n",
       " (u'works', 0.33915488485635242),\n",
       " (u'bit', 0.33575799826001018),\n",
       " (u'comfortable', 0.33359187604435814),\n",
       " (u'without', 0.26853378635835035),\n",
       " (u'price', 0.26579742591233047),\n",
       " (u'daughter', 0.26341775986429966),\n",
       " (u'room', 0.26031990321424064),\n",
       " (u'lot', 0.2460909012187312),\n",
       " (u'need', 0.22630398111418579),\n",
       " (u'old', 0.20891243361852321),\n",
       " (u'night', 0.20687913115053969),\n",
       " (u'kids', 0.19940875080594056),\n",
       " (u'car', 0.19336369437756273),\n",
       " (u'still', 0.18850824654810061),\n",
       " (u'size', 0.18149720783033321),\n",
       " (u'play', 0.17960239584526183),\n",
       " (u'set', 0.17427863048313944),\n",
       " (u'wish', 0.173191267722797),\n",
       " (u'keep', 0.16520456437858827),\n",
       " (u'also', 0.15816332522813586),\n",
       " (u'take', 0.15805867097527929),\n",
       " (u'good', 0.15650722841107187),\n",
       " (u'every', 0.15357547377218669),\n",
       " (u'though', 0.14384920742647331),\n",
       " (u'clean', 0.14333609347458112),\n",
       " (u'able', 0.13580869861174408),\n",
       " (u'son', 0.12839632495965758),\n",
       " (u'easily', 0.12589148349809715),\n",
       " (u'around', 0.11532951274619002),\n",
       " (u'us', 0.10978616997027542),\n",
       " (u'think', 0.10845701021909178),\n",
       " (u'many', 0.10678783275895007),\n",
       " (u'long', 0.10551406526793529),\n",
       " (u'since', 0.1027656387277633),\n",
       " (u'crib', 0.10092802261635565),\n",
       " (u'used', 0.096284199600621165),\n",
       " (u'cute', 0.089652483928722687),\n",
       " (u'day', 0.085188608360364695),\n",
       " (u'go', 0.078395775148630095),\n",
       " (u'baby', 0.074073005921643537),\n",
       " (u'purchase', 0.071643099781926733),\n",
       " (u'pump', 0.070304481331558921),\n",
       " (u'found', 0.069924577133769414),\n",
       " (u'year', 0.069230100670612596),\n",
       " (u'seems', 0.058307812348723252),\n",
       " (u'bottles', 0.057854899406012336),\n",
       " (u'worth', 0.05378861367926932),\n",
       " (u'babies', 0.052493808013111674),\n",
       " (u'sure', 0.048812336570192086),\n",
       " (u'diaper', 0.047022683932081026),\n",
       " (u'using', 0.045259754445998938),\n",
       " (u'enough', 0.027717753612622142),\n",
       " (u'pretty', 0.0275533420756977),\n",
       " (u'big', 0.025432953184332849),\n",
       " (u'second', 0.025195677598487856),\n",
       " (u'looking', 0.015191736193886304),\n",
       " (u'one', 0.012752505778363775),\n",
       " (u'gate', 0.011704252234953047),\n",
       " (u'side', 0.0071140331569785721),\n",
       " (u'won', 0.0049600237218161989),\n",
       " (u'high', 0.0033256265331975195),\n",
       " (u'find', 0.00071254343950105116),\n",
       " (u'use', -0.00010415219124813608),\n",
       " (u'know', -0.00028242683941661462),\n",
       " (u'put', -0.0003297138730484452),\n",
       " (u'like', -0.0033844739929333313),\n",
       " (u'new', -0.0053755390431605736),\n",
       " (u'bag', -0.0065327472366472523),\n",
       " (u'makes', -0.0090229447820856547),\n",
       " (u'much', -0.013247475276295087),\n",
       " (u'give', -0.014465082079268988),\n",
       " (u'getting', -0.014764343268507087),\n",
       " (u'really', -0.01790581772133349),\n",
       " (u'bottle', -0.027069664194765763),\n",
       " (u'almost', -0.031915614813458539),\n",
       " (u'come', -0.032008779419504495),\n",
       " (u'cover', -0.034235297575516105),\n",
       " (u'stroller', -0.037532658315957791),\n",
       " (u'make', -0.039154744869536247),\n",
       " (u'first', -0.046309687875491966),\n",
       " (u'took', -0.046445268335076353),\n",
       " (u'want', -0.048754959311676234),\n",
       " (u'amazon', -0.051844250956369582),\n",
       " (u'child', -0.052414618426523001),\n",
       " (u'see', -0.052890738707090948),\n",
       " (u'say', -0.053174990156794749),\n",
       " (u'hold', -0.057762803143673547),\n",
       " (u'toy', -0.058504884416557462),\n",
       " (u'place', -0.060029344468872543),\n",
       " (u'problem', -0.067403833078072309),\n",
       " (u'months', -0.067994837071354605),\n",
       " (u'different', -0.069557005352118215),\n",
       " (u'looks', -0.072366193105577931),\n",
       " (u'time', -0.072429385404337521),\n",
       " (u'water', -0.074279896225984535),\n",
       " (u'wanted', -0.078501879254603113),\n",
       " (u'came', -0.079255186331449776),\n",
       " (u'chair', -0.080555117535878823),\n",
       " (u'look', -0.082137112481679916),\n",
       " (u'purchased', -0.082530370714043552),\n",
       " (u'milk', -0.08351559244756232),\n",
       " (u'quality', -0.08351720214319891),\n",
       " (u'seat', -0.086967540716402836),\n",
       " (u'top', -0.088927168010429561),\n",
       " (u'said', -0.098048805660486474),\n",
       " (u'last', -0.099468698884876638),\n",
       " (u'actually', -0.10161497907746782),\n",
       " (u'got', -0.10543375031876731),\n",
       " (u'right', -0.10557106051642376),\n",
       " (u'went', -0.10683632474365248),\n",
       " (u'made', -0.1076847717414831),\n",
       " (u'together', -0.1088821119000714),\n",
       " (u'head', -0.11047167350429234),\n",
       " (u'two', -0.11895329160764241),\n",
       " (u'ordered', -0.12759438785447239),\n",
       " (u'buying', -0.13219654443850234),\n",
       " (u'part', -0.13553124925218551),\n",
       " (u'less', -0.13680100337757303),\n",
       " (u'fit', -0.14017953295124255),\n",
       " (u'times', -0.14586930747863161),\n",
       " (u'weeks', -0.15096473577470618),\n",
       " (u'bought', -0.1518170455358244),\n",
       " (u'started', -0.15317414031324739),\n",
       " (u'small', -0.15338717743109276),\n",
       " (u'tub', -0.16674538652912238),\n",
       " (u'thing', -0.16789846626202054),\n",
       " (u'another', -0.17193492527885287),\n",
       " (u'bottom', -0.17220045183297383),\n",
       " (u'monitor', -0.17441207321526928),\n",
       " (u'could', -0.17660052318097769),\n",
       " (u'anything', -0.18680145148808969),\n",
       " (u'going', -0.18941980928717861),\n",
       " (u'instead', -0.1931227347787054),\n",
       " (u'month', -0.19337706218987974),\n",
       " (u'unit', -0.19612125346180445),\n",
       " (u'get', -0.19683521050479694),\n",
       " (u'picture', -0.19690605990826135),\n",
       " (u'try', -0.20050199977180849),\n",
       " (u'worked', -0.20837366990612613),\n",
       " (u'never', -0.21085887133681119),\n",
       " (u'away', -0.22068841029619518),\n",
       " (u'cup', -0.22276152213312148),\n",
       " (u'maybe', -0.22407623803753551),\n",
       " (u'however', -0.22458297237573899),\n",
       " (u'better', -0.22730386611236092),\n",
       " (u'either', -0.22885160941159599),\n",
       " (u'open', -0.23278437136249733),\n",
       " (u'trying', -0.24107700215241154),\n",
       " (u'piece', -0.24357608003991285),\n",
       " (u'box', -0.24983098032592596),\n",
       " (u'reviews', -0.25048572084934395),\n",
       " (u'design', -0.25892518194662117),\n",
       " (u'product', -0.26333030430030041),\n",
       " (u'back', -0.26895436123955224),\n",
       " (u'buy', -0.2715922173119788),\n",
       " (u'company', -0.27654813548432555),\n",
       " (u'completely', -0.27784540641349503),\n",
       " (u'plastic', -0.28679746772825199),\n",
       " (u'would', -0.28702144353429698),\n",
       " (u'something', -0.29000308511756406),\n",
       " (u'tried', -0.29004195547640338),\n",
       " (u'received', -0.29493258190009086),\n",
       " (u'stay', -0.30056269708006017),\n",
       " (u'hard', -0.30836990675868209),\n",
       " (u'way', -0.31302036315593346),\n",
       " (u'item', -0.31873474440188404),\n",
       " (u'working', -0.32036324221809576),\n",
       " (u'bad', -0.3486782931393233),\n",
       " (u'difficult', -0.35863213589083448),\n",
       " (u'even', -0.36867819469793317),\n",
       " (u'cheap', -0.45891214821936144),\n",
       " (u'idea', -0.46536986216939819),\n",
       " (u'thought', -0.47785646313838004),\n",
       " (u'work', -0.52671629033098999),\n",
       " (u'broke', -0.55519506431364041),\n",
       " (u'returned', -0.57270704515811255),\n",
       " (u'waste', -0.6178091779812257),\n",
       " (u'return', -0.74208495463503965),\n",
       " (u'money', -0.7687931346121053),\n",
       " (u'disappointed', -0.95543662817072728)]"
      ]
     },
     "execution_count": 163,
     "metadata": {},
     "output_type": "execute_result"
    }
   ],
   "source": [
    "coefficients_l2_0 = list(coefficients[0][1:].flatten()) # exclude intercept\n",
    "coff_word_tuples = [(word, coff) for coff, word in zip(coefficients_l2_0, important_words)]\n",
    "coff_word_tuples = sorted(coff_word_tuples, key=lambda x:x[1], reverse=True)\n",
    "coff_word_tuples"
   ]
  },
  {
   "cell_type": "markdown",
   "metadata": {},
   "source": [
    "##### Top 5 important words in L2 = 0"
   ]
  },
  {
   "cell_type": "code",
   "execution_count": 168,
   "metadata": {},
   "outputs": [
    {
     "name": "stdout",
     "output_type": "stream",
     "text": [
      "[(u'love', 1.0585539820695435), (u'loves', 1.0524840477983537), (u'easy', 0.98455881987319227), (u'perfect', 0.83569320763834631), (u'great', 0.80162498977817642)]\n",
      "[ 2  3  7 22 33]\n"
     ]
    }
   ],
   "source": [
    "print coff_word_tuples[0:5]\n",
    "positive_words = np.array(coff_word_tuples[0:5])\n",
    "positive_words= positive_words[:,0]\n",
    "#print important_words\n",
    "index_pw = np.where(np.in1d(important_words, positive_words))[0]\n",
    "print index_pw"
   ]
  },
  {
   "cell_type": "markdown",
   "metadata": {},
   "source": [
    "#### Bottom 5 words"
   ]
  },
  {
   "cell_type": "code",
   "execution_count": 169,
   "metadata": {},
   "outputs": [
    {
     "name": "stdout",
     "output_type": "stream",
     "text": [
      "[(u'returned', -0.57270704515811255), (u'waste', -0.6178091779812257), (u'return', -0.74208495463503965), (u'money', -0.7687931346121053), (u'disappointed', -0.95543662817072728)]\n",
      "[ 96 105 112 113 168]\n"
     ]
    }
   ],
   "source": [
    "print coff_word_tuples[-5:]\n",
    "negative_words = np.array(coff_word_tuples[-5:])\n",
    "negative_words= negative_words[:,0]\n",
    "#print important_words\n",
    "index_nw = np.where(np.in1d(important_words, negative_words))[0]\n",
    "print index_nw"
   ]
  },
  {
   "cell_type": "code",
   "execution_count": 170,
   "metadata": {},
   "outputs": [
    {
     "data": {
      "text/plain": [
       "array([[ 0.80162499,  0.79689693,  0.78993515,  0.70142507,  0.37601171,\n",
       "         0.00894956],\n",
       "       [ 1.05855398,  1.05085568,  1.03952852,  0.89664413,  0.41835364,\n",
       "         0.00904174],\n",
       "       [ 0.98455882,  0.97760015,  0.96736184,  0.83824483,  0.40190397,\n",
       "         0.00880768],\n",
       "       [ 1.05248405,  1.04390291,  1.03126535,  0.87079397,  0.34587026,\n",
       "         0.00614988],\n",
       "       [ 0.83569321,  0.82855467,  0.81803784,  0.68414294,  0.25061384,\n",
       "         0.0039888 ]])"
      ]
     },
     "execution_count": 170,
     "metadata": {},
     "output_type": "execute_result"
    }
   ],
   "source": [
    "#Select the rows with positive words\n",
    "positive_w_coef = coefficients_wo_intercept[index_pw,:]\n",
    "positive_w_coef"
   ]
  },
  {
   "cell_type": "code",
   "execution_count": 171,
   "metadata": {},
   "outputs": [
    {
     "data": {
      "text/plain": [
       "array([[-0.76879313, -0.76273398, -0.75381829, -0.64140575, -0.27588337,\n",
       "        -0.00548721],\n",
       "       [-0.95543663, -0.94697992, -0.93451842, -0.77562514, -0.26609518,\n",
       "        -0.0040134 ],\n",
       "       [-0.61780918, -0.61247451, -0.60462025, -0.50518876, -0.19063065,\n",
       "        -0.0033449 ],\n",
       "       [-0.74208495, -0.7355024 , -0.72580657, -0.60264636, -0.21519852,\n",
       "        -0.00372969],\n",
       "       [-0.57270705, -0.56751849, -0.55986985, -0.46205568, -0.15002095,\n",
       "        -0.00222464]])"
      ]
     },
     "execution_count": 171,
     "metadata": {},
     "output_type": "execute_result"
    }
   ],
   "source": [
    "#Select the rows with negative words\n",
    "negative_w_coef = coefficients_wo_intercept[index_nw,:]\n",
    "negative_w_coef"
   ]
  },
  {
   "cell_type": "code",
   "execution_count": 172,
   "metadata": {},
   "outputs": [
    {
     "data": {
      "image/png": "[encoded data removed]",
      "text/plain": [
       "<matplotlib.figure.Figure at 0x1188f60d0>"
      ]
     },
     "metadata": {},
     "output_type": "display_data"
    }
   ],
   "source": [
    "\n",
    "%matplotlib inline\n",
    "plt.rcParams['figure.figsize'] = 10, 6\n",
    "\n",
    "def make_coefficient_plot(table, positive_words, negative_words, positive_w_coef, negative_w_coef, l2_penalty_list):\n",
    "    cmap_positive = plt.get_cmap('Reds')\n",
    "    cmap_negative = plt.get_cmap('Blues')\n",
    "    \n",
    "    xx = l2_penalty_list\n",
    "    plt.plot(xx, [0.]*len(xx), '--', lw=1, color='k')\n",
    "    \n",
    "    table_positive_words = positive_w_coef\n",
    "    table_negative_words = negative_w_coef\n",
    "\n",
    "    \n",
    "    for i in xrange(len(positive_words)):\n",
    "        color = cmap_positive(0.8*((i+1)/(len(positive_words)*1.2)+0.15))\n",
    "        plt.plot(xx, table_positive_words[i:i+1].flatten(),\n",
    "                 '-', label=positive_words[i], linewidth=4.0, color=color)\n",
    "        \n",
    "    for i in xrange(len(negative_words)):\n",
    "        color = cmap_negative(0.8*((i+1)/(len(negative_words)*1.2)+0.15))\n",
    "        plt.plot(xx, table_negative_words[i:i+1].flatten(),\n",
    "                 '-', label=negative_words[i], linewidth=4.0, color=color)\n",
    "        \n",
    "    plt.legend(loc='best', ncol=3, prop={'size':16}, columnspacing=0.5)\n",
    "    plt.axis([1, 1e5, -1, 2])\n",
    "    plt.title('Coefficient path')\n",
    "    plt.xlabel('L2 penalty ($\\lambda$)')\n",
    "    plt.ylabel('Coefficient value')\n",
    "    plt.xscale('log')\n",
    "    plt.rcParams.update({'font.size': 18})\n",
    "    plt.tight_layout()\n",
    "\n",
    "\n",
    "make_coefficient_plot(coefficients_wo_intercept, positive_words, negative_words, positive_w_coef, negative_w_coef, l2_penalties)\n"
   ]
  },
  {
   "cell_type": "markdown",
   "metadata": {
    "collapsed": true
   },
   "source": [
    "#### Comparing model with different L2 penalties"
   ]
  },
  {
   "cell_type": "code",
   "execution_count": 173,
   "metadata": {
    "collapsed": true
   },
   "outputs": [],
   "source": [
    "def accuracy (coff, feature_matrix, output):\n",
    "    scores = np.dot(feature_matrix, coff)\n",
    "    indicies = scores > 0\n",
    "    indicies_low = scores <= 0\n",
    "    scores[indicies] = 1\n",
    "    scores[indicies_low] = -1\n",
    "    \n",
    "    miss_classifications =  (abs(scores - output.values.reshape(-1,1))).sum() /2\n",
    "    correct_classification = len(feature_matrix) - miss_classifications\n",
    "    total_examples = len(feature_matrix)\n",
    "    return correct_classification * 1.0 / total_examples"
   ]
  },
  {
   "cell_type": "code",
   "execution_count": 174,
   "metadata": {},
   "outputs": [
    {
     "name": "stdout",
     "output_type": "stream",
     "text": [
      "0 : Accuracy on Training / Validation set: 0.785156157787 0.78143964149\n",
      "4 : Accuracy on Training / Validation set: 0.785108944548 0.781533003454\n",
      "10 : Accuracy on Training / Validation set: 0.784990911452 0.781719727383\n",
      "100.0 : Accuracy on Training / Validation set: 0.783975826822 0.781066193633\n",
      "1000.0 : Accuracy on Training / Validation set: 0.775855149784 0.771356549342\n",
      "100000.0 : Accuracy on Training / Validation set: 0.680366374731 0.667818130893\n"
     ]
    }
   ],
   "source": [
    "i = 0\n",
    "for coff in coefficients:\n",
    "    print \"%s : Accuracy on Training / Validation set: %s %s\" %(\n",
    "    l2_penalties[i], \n",
    "    accuracy (coff, training_data, train_output),\n",
    "    accuracy (coff, validation_data, validation_output))\n",
    "        \n",
    "    i = i + 1    "
   ]
  },
  {
   "cell_type": "code",
   "execution_count": null,
   "metadata": {
    "collapsed": true
   },
   "outputs": [],
   "source": []
  }
 ],
 "metadata": {
  "kernelspec": {
   "display_name": "Python 2",
   "language": "python",
   "name": "python2"
  },
  "language_info": {
   "codemirror_mode": {
    "name": "ipython",
    "version": 2
   },
   "file_extension": ".py",
   "mimetype": "text/x-python",
   "name": "python",
   "nbconvert_exporter": "python",
   "pygments_lexer": "ipython2",
   "version": "2.7.13"
  }
 },
 "nbformat": 4,
 "nbformat_minor": 2
}
